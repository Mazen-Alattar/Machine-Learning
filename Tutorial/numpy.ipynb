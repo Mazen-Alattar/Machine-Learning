{
 "cells": [
  {
   "cell_type": "code",
   "execution_count": 6,
   "id": "f8bc67da",
   "metadata": {
    "ExecuteTime": {
     "end_time": "2023-11-30T08:27:41.875680Z",
     "start_time": "2023-11-30T08:27:41.638821Z"
    }
   },
   "outputs": [],
   "source": [
    "import numpy as np"
   ]
  },
  {
   "cell_type": "markdown",
   "id": "fdf6ef75",
   "metadata": {},
   "source": [
    "### Numpy Data Types\n",
    "Numpy has the following data types: \n",
    "- ```int```\n",
    "- ```float```\n",
    "- ```complex```\n",
    "- ```bool```\n",
    "- ```string```\n",
    "- ```unicode```\n",
    "- ```object```\n",
    "\n",
    "The numeric data types have various precisions like 32-bit or 64-bit. \n",
    "\n",
    "Numpy data types can be represented using either __Type__ or __Type Code__"
   ]
  },
  {
   "cell_type": "markdown",
   "id": "8871a4ea",
   "metadata": {
    "ExecuteTime": {
     "end_time": "2023-11-29T12:55:24.512050Z",
     "start_time": "2023-11-29T12:55:24.506434Z"
    }
   },
   "source": [
    "Data types can be defined at creating the numpy array and converted to other types later. \n",
    "\n",
    "You can use either _type, type code_ or _```np``` dot_ methods to define the data type of an array, but when you use ```np``` dot method to define the data type, it can only follow _type_ rather than _type code_."
   ]
  },
  {
   "cell_type": "code",
   "execution_count": 7,
   "id": "57c3fe95",
   "metadata": {
    "ExecuteTime": {
     "end_time": "2023-11-30T08:27:43.618559Z",
     "start_time": "2023-11-30T08:27:43.606779Z"
    }
   },
   "outputs": [
    {
     "data": {
      "text/plain": [
       "array([1., 2., 3.], dtype=float32)"
      ]
     },
     "execution_count": 7,
     "metadata": {},
     "output_type": "execute_result"
    }
   ],
   "source": [
    "arr=np.array([1,2,3],dtype='f4')     # f4 =float32\n",
    "arr"
   ]
  },
  {
   "cell_type": "code",
   "execution_count": 8,
   "id": "67f70477",
   "metadata": {
    "ExecuteTime": {
     "end_time": "2023-11-30T08:27:44.499234Z",
     "start_time": "2023-11-30T08:27:44.493793Z"
    }
   },
   "outputs": [
    {
     "data": {
      "text/plain": [
       "dtype('float32')"
      ]
     },
     "execution_count": 8,
     "metadata": {},
     "output_type": "execute_result"
    }
   ],
   "source": [
    "# Identical to the above\n",
    "arr = np.array([1,2,3], dtype='float32')\n",
    "arr.dtype"
   ]
  },
  {
   "cell_type": "code",
   "execution_count": 9,
   "id": "d3dd1f04",
   "metadata": {
    "ExecuteTime": {
     "end_time": "2023-11-30T08:27:47.332937Z",
     "start_time": "2023-11-30T08:27:47.261936Z"
    }
   },
   "outputs": [
    {
     "ename": "ValueError",
     "evalue": "could not convert string to float: 'Ahmed'",
     "output_type": "error",
     "traceback": [
      "\u001b[1;31m---------------------------------------------------------------------------\u001b[0m",
      "\u001b[1;31mValueError\u001b[0m                                Traceback (most recent call last)",
      "Cell \u001b[1;32mIn[9], line 1\u001b[0m\n\u001b[1;32m----> 1\u001b[0m arr\u001b[38;5;241m=\u001b[39mnp\u001b[38;5;241m.\u001b[39marray([\u001b[38;5;241m1\u001b[39m,\u001b[38;5;241m2\u001b[39m,\u001b[38;5;124m\"\u001b[39m\u001b[38;5;124mAhmed\u001b[39m\u001b[38;5;124m\"\u001b[39m],dtype\u001b[38;5;241m=\u001b[39m\u001b[38;5;124m'\u001b[39m\u001b[38;5;124mf4\u001b[39m\u001b[38;5;124m'\u001b[39m)    \u001b[38;5;66;03m#numpy can't convert 'Ahmed'(string) to float\u001b[39;00m\n\u001b[0;32m      2\u001b[0m arr\u001b[38;5;241m.\u001b[39mdtype\n",
      "\u001b[1;31mValueError\u001b[0m: could not convert string to float: 'Ahmed'"
     ]
    }
   ],
   "source": [
    "arr=np.array([1,2,\"Ahmed\"],dtype='f4')    #numpy can't convert 'Ahmed'(string) to float\n",
    "arr.dtype"
   ]
  },
  {
   "cell_type": "code",
   "execution_count": 5,
   "id": "30617666",
   "metadata": {
    "ExecuteTime": {
     "end_time": "2023-11-29T18:58:45.918226Z",
     "start_time": "2023-11-29T18:58:45.911839Z"
    }
   },
   "outputs": [
    {
     "name": "stdout",
     "output_type": "stream",
     "text": [
      "<class 'numpy.float32'>\n",
      "<class 'numpy.float32'>\n",
      "<class 'numpy.float32'>\n",
      "6.400000095367432\n"
     ]
    }
   ],
   "source": [
    "arr = np.array([1,2,\"3.4\"], dtype='float32')    #numpy can convert '3.4'(string) to float\n",
    "arr.dtype\n",
    "\n",
    "for i in arr:\n",
    "    print(type(i))\n",
    "    \n",
    "print(arr[2]+3)"
   ]
  },
  {
   "cell_type": "code",
   "execution_count": 6,
   "id": "3e738a88",
   "metadata": {
    "ExecuteTime": {
     "end_time": "2023-11-29T18:58:47.489649Z",
     "start_time": "2023-11-29T18:58:47.484603Z"
    }
   },
   "outputs": [
    {
     "name": "stdout",
     "output_type": "stream",
     "text": [
      "int32\n",
      "1\n",
      "2\n",
      "3\n"
     ]
    }
   ],
   "source": [
    "arr = np.array([\"1\",\"2\",\"3\"], dtype='int')\n",
    "print(arr.dtype)\n",
    "\n",
    "for i in arr:\n",
    "    print(i)"
   ]
  },
  {
   "cell_type": "markdown",
   "id": "212155a7",
   "metadata": {},
   "source": [
    "### Type Conversion"
   ]
  },
  {
   "cell_type": "markdown",
   "id": "0bc46662",
   "metadata": {},
   "source": [
    "```astype``` method: convert the data type of an array to other data types. \n",
    "\n",
    "Notice that ```astype``` returns a copy of the array instead of converting the data type in place. You need to assign the copy to the original array or a new array."
   ]
  },
  {
   "cell_type": "code",
   "execution_count": 7,
   "id": "5393814a",
   "metadata": {
    "ExecuteTime": {
     "end_time": "2023-11-29T18:58:48.831415Z",
     "start_time": "2023-11-29T18:58:48.824393Z"
    }
   },
   "outputs": [
    {
     "name": "stdout",
     "output_type": "stream",
     "text": [
      "Original Data Type: int16\n",
      "Data Type After Conversion: float32\n"
     ]
    },
    {
     "data": {
      "text/plain": [
       "array([1., 2., 3.], dtype=float32)"
      ]
     },
     "execution_count": 7,
     "metadata": {},
     "output_type": "execute_result"
    }
   ],
   "source": [
    "arr = np.array([1,2,3], dtype='int16') # 16 / 8 = 2 ==> 2 bytes\n",
    "print('Original Data Type: ' + str(arr.dtype))\n",
    "\n",
    "arr = arr.astype(np.float32) # convert arr type from int16 --> float32 ( 8 bytes )\n",
    "print('Data Type After Conversion: ' + str(arr.dtype))\n",
    "arr"
   ]
  },
  {
   "cell_type": "markdown",
   "id": "89972b01",
   "metadata": {},
   "source": [
    "__WARNING__: be cautious about data overflow when you downcast the data type (from higher precision to lower precision). Some unexpected and undefined values might occur and it is usually difficult to debug such issues. "
   ]
  },
  {
   "cell_type": "code",
   "execution_count": 8,
   "id": "d381eecb",
   "metadata": {
    "ExecuteTime": {
     "end_time": "2023-11-29T18:58:49.945691Z",
     "start_time": "2023-11-29T18:58:49.941505Z"
    }
   },
   "outputs": [
    {
     "name": "stdout",
     "output_type": "stream",
     "text": [
      "np array before type conversion: [126 127 129]\n",
      "np array after type conversion: [ 126  127 -127]\n"
     ]
    }
   ],
   "source": [
    "# An example of integer overflow at downcasting\n",
    "arr = np.array([126,127,129], dtype='int16')\n",
    "\n",
    "print('np array before type conversion: ' + str(arr))\n",
    "#print(arr.max())\n",
    "# Range of int8 [-128, 127], 256 overflows after conversion\n",
    "arr = arr.astype('int8')\n",
    "print('np array after type conversion: ' + str(arr))"
   ]
  },
  {
   "cell_type": "markdown",
   "id": "a86a2ffa",
   "metadata": {},
   "source": [
    "### String and Unicode Data Type"
   ]
  },
  {
   "cell_type": "markdown",
   "id": "6cdcb02c",
   "metadata": {},
   "source": [
    "The ```string_``` and ```unicode_``` data types are all implicitly _fixed-length_. \n",
    "\n",
    "The length of the string is given by their type code appended with a number. For example, ```S3``` represents string of length 3; ```U10``` represents unicode of length 10. Otherwise, the default length is the length of the longest string in the array.\n",
    "\n",
    "If the length of a string in the array is shorter than the length of the data type defined or converted to, the string will be truncated."
   ]
  },
  {
   "cell_type": "code",
   "execution_count": 9,
   "id": "1bd09d05",
   "metadata": {
    "ExecuteTime": {
     "end_time": "2023-11-29T18:58:51.849065Z",
     "start_time": "2023-11-29T18:58:51.844146Z"
    }
   },
   "outputs": [
    {
     "name": "stdout",
     "output_type": "stream",
     "text": [
      "[b'a3c' b'd2f']\n",
      "['abc' 'efg']\n"
     ]
    }
   ],
   "source": [
    "# An example of truncated string\n",
    "s = np.array(['a3c', 'd2fg'], dtype='S3')\n",
    "print(s)\n",
    "\n",
    "# An example of truncated unicode\n",
    "s = np.array(['abcd', 'efghi'], dtype='U3')\n",
    "print(s)"
   ]
  },
  {
   "cell_type": "code",
   "execution_count": 10,
   "id": "3553ac89",
   "metadata": {
    "ExecuteTime": {
     "end_time": "2023-11-29T18:58:52.774018Z",
     "start_time": "2023-11-29T18:58:52.769326Z"
    }
   },
   "outputs": [
    {
     "name": "stdout",
     "output_type": "stream",
     "text": [
      "The array is [b'a' b'ab' b'abc']\n",
      "The data type is |S3 because the longest string in the array is \"abc\" and its length is 3.\n",
      "The array is ['a' 'abc' 'abcd']\n",
      "The data type is <U4 because the longest unicode in the array is \"abcd\" and its length is 4.\n"
     ]
    }
   ],
   "source": [
    "arr = np.array(['a', 'ab', 'abc'], dtype=np.string_)\n",
    "print('The array is ' + str(arr))\n",
    "print('The data type is ' + str(arr.dtype) + ' because the longest string in the array is \"abc\" and its length is 3.')\n",
    "\n",
    "arr = np.array(['a', 'abc', 'abcd'], dtype=np.unicode_)\n",
    "print('The array is ' + str(arr))\n",
    "print('The data type is ' + str(arr.dtype) + ' because the longest unicode in the array is \"abcd\" and its length is 4.')\n"
   ]
  },
  {
   "cell_type": "markdown",
   "id": "775e224f",
   "metadata": {
    "ExecuteTime": {
     "end_time": "2023-11-29T14:38:43.474576Z",
     "start_time": "2023-11-29T14:38:43.464832Z"
    }
   },
   "source": [
    "### Create an array from an iterable\n",
    "Such as\n",
    "- ```list```\n",
    "- ```tuple```\n",
    "- ```range``` iterator\n",
    "\n",
    "Notice that not all iterables can be used to create a numpy array, such as ```set``` and ```dict```"
   ]
  },
  {
   "cell_type": "code",
   "execution_count": 11,
   "id": "b76cb651",
   "metadata": {
    "ExecuteTime": {
     "end_time": "2023-11-29T18:58:54.621840Z",
     "start_time": "2023-11-29T18:58:54.616165Z"
    }
   },
   "outputs": [
    {
     "name": "stdout",
     "output_type": "stream",
     "text": [
      "[1 2 3 4 5]\n",
      "[1, 2, 3, 4, 5]\n",
      "<class 'list'>\n",
      "<class 'numpy.ndarray'>\n",
      "int32\n"
     ]
    }
   ],
   "source": [
    "mylist = [1,2,3,4,5]\n",
    "arr = np.array(mylist)\n",
    "print(arr)\n",
    "\n",
    "l = [1,2,3,4,5]\n",
    "print(l)\n",
    "\n",
    "print(type(l))\n",
    "print(type(arr))\n",
    "print(arr.dtype)"
   ]
  },
  {
   "cell_type": "markdown",
   "id": "56fb0e48",
   "metadata": {},
   "source": [
    "### Create an aray within specified range\n",
    "```np.arange()``` method can be used to replace ```np.array(range())``` method"
   ]
  },
  {
   "cell_type": "code",
   "execution_count": 12,
   "id": "4e269665",
   "metadata": {
    "ExecuteTime": {
     "end_time": "2023-11-29T18:58:55.760723Z",
     "start_time": "2023-11-29T18:58:55.756344Z"
    }
   },
   "outputs": [
    {
     "name": "stdout",
     "output_type": "stream",
     "text": [
      "[ 0  3  6  9 12 15 18]\n",
      "<class 'numpy.ndarray'>\n"
     ]
    }
   ],
   "source": [
    "# np.arange(start, stop, step)\n",
    "arr = np.arange(0, 21, 3)  \n",
    "print(arr)\n",
    "print(type(arr))"
   ]
  },
  {
   "cell_type": "markdown",
   "id": "911210b7",
   "metadata": {},
   "source": [
    "### Create an array of random values of given shape\n",
    "```np.random.rand()``` method returns values in the range [0,1)"
   ]
  },
  {
   "cell_type": "code",
   "execution_count": 13,
   "id": "e35a594a",
   "metadata": {
    "ExecuteTime": {
     "end_time": "2023-11-29T18:58:56.917202Z",
     "start_time": "2023-11-29T18:58:56.912857Z"
    }
   },
   "outputs": [
    {
     "name": "stdout",
     "output_type": "stream",
     "text": [
      "[[0.8782061  0.53649492 0.52623968 0.16367243]\n",
      " [0.02997237 0.9511089  0.41830347 0.75598733]\n",
      " [0.82454797 0.88940009 0.09739854 0.45909511]]\n"
     ]
    }
   ],
   "source": [
    "arr = np.random.rand(3,4)\n",
    "print(arr)"
   ]
  },
  {
   "cell_type": "markdown",
   "id": "1e826999",
   "metadata": {},
   "source": [
    "### Create an array of zeros of given shape \n",
    "- ```np.zeros()```: create array of all zeros in given shape\n",
    "- ```np.zeros_like()```: create array of all zeros with the same shape and data type as the given input array"
   ]
  },
  {
   "cell_type": "code",
   "execution_count": 14,
   "id": "a0213e56",
   "metadata": {
    "ExecuteTime": {
     "end_time": "2023-11-29T18:58:57.880737Z",
     "start_time": "2023-11-29T18:58:57.877137Z"
    }
   },
   "outputs": [
    {
     "name": "stdout",
     "output_type": "stream",
     "text": [
      "[[0. 0. 0.]\n",
      " [0. 0. 0.]]\n"
     ]
    }
   ],
   "source": [
    "zeros = np.zeros((2,3))\n",
    "print(zeros)"
   ]
  },
  {
   "cell_type": "code",
   "execution_count": 15,
   "id": "c062bc84",
   "metadata": {
    "ExecuteTime": {
     "end_time": "2023-11-29T18:58:58.895340Z",
     "start_time": "2023-11-29T18:58:58.889448Z"
    }
   },
   "outputs": [
    {
     "name": "stdout",
     "output_type": "stream",
     "text": [
      "[[0 0]\n",
      " [0 0]\n",
      " [0 0]]\n",
      "Data Type: int16\n"
     ]
    }
   ],
   "source": [
    "arr = np.array([[1,2], [3,4],[5,6]], dtype=np.int16)\n",
    "zeros = np.zeros_like(arr)\n",
    "print(zeros)\n",
    "print('Data Type: ' + str(zeros.dtype))"
   ]
  },
  {
   "cell_type": "markdown",
   "id": "43b63cd2",
   "metadata": {},
   "source": [
    "### Create an array of ones of given shape \n",
    "- ```np.ones()```: create array of all ones in given shape\n",
    "- ```np.ones_like()```: create array of all ones with the same shape and data type as the given input array"
   ]
  },
  {
   "cell_type": "code",
   "execution_count": 16,
   "id": "6260507b",
   "metadata": {
    "ExecuteTime": {
     "end_time": "2023-11-29T18:59:00.012186Z",
     "start_time": "2023-11-29T18:59:00.007638Z"
    }
   },
   "outputs": [
    {
     "name": "stdout",
     "output_type": "stream",
     "text": [
      "[[1. 1.]\n",
      " [1. 1.]\n",
      " [1. 1.]]\n"
     ]
    }
   ],
   "source": [
    "ones = np.ones((3,2))\n",
    "print(ones)"
   ]
  },
  {
   "cell_type": "code",
   "execution_count": 17,
   "id": "fb6364eb",
   "metadata": {
    "ExecuteTime": {
     "end_time": "2023-11-29T18:59:01.140883Z",
     "start_time": "2023-11-29T18:59:01.136074Z"
    }
   },
   "outputs": [
    {
     "name": "stdout",
     "output_type": "stream",
     "text": [
      "[[1 1 1]\n",
      " [1 1 1]]\n",
      "Data Type: int32\n"
     ]
    }
   ],
   "source": [
    "arr = [[1,2,3], [4,5,6]]\n",
    "ones = np.ones_like(arr)\n",
    "print(ones)\n",
    "print('Data Type: ' + str(ones.dtype))"
   ]
  },
  {
   "cell_type": "markdown",
   "id": "01158bc0",
   "metadata": {},
   "source": [
    "### Create an array of constant values of given shape  \n",
    "- ```np.full()```: create array of constant values in given shape\n",
    "- ```np.full_like()```: create array of constant values with the same shape and data type as the given input array"
   ]
  },
  {
   "cell_type": "code",
   "execution_count": 18,
   "id": "0341e0c9",
   "metadata": {
    "ExecuteTime": {
     "end_time": "2023-11-29T18:59:02.348452Z",
     "start_time": "2023-11-29T18:59:02.344849Z"
    }
   },
   "outputs": [
    {
     "name": "stdout",
     "output_type": "stream",
     "text": [
      "[[6 6 6 6]\n",
      " [6 6 6 6]\n",
      " [6 6 6 6]\n",
      " [6 6 6 6]]\n"
     ]
    }
   ],
   "source": [
    "full = np.full((4,4), 6)\n",
    "print(full)"
   ]
  },
  {
   "cell_type": "code",
   "execution_count": 19,
   "id": "ddd7bc3a",
   "metadata": {
    "ExecuteTime": {
     "end_time": "2023-11-29T18:59:03.472953Z",
     "start_time": "2023-11-29T18:59:03.467701Z"
    }
   },
   "outputs": [
    {
     "name": "stdout",
     "output_type": "stream",
     "text": [
      "[[5. 5.]\n",
      " [5. 5.]]\n",
      "Data Type: float64\n"
     ]
    }
   ],
   "source": [
    "arr = np.array([[1,2], [3,4]], dtype=np.float64)\n",
    "full = np.full_like(arr, 5)\n",
    "print(full)\n",
    "print('Data Type: ' + str(full.dtype))"
   ]
  },
  {
   "cell_type": "markdown",
   "id": "ade1a3d0",
   "metadata": {},
   "source": [
    "### Create an array in a repetitive manner\n",
    "- ```np.repeat(iterable, reps, axis=None)```: repeat each element by n times\n",
    "    - ```iterable```: input array\n",
    "    - ```reps```: number of repetitions\n",
    "    - ```axis```: which axis to repeat along, default is ```None``` which will flatten the input array and then repeat\n",
    "- ```np.tile()```: repeat the whole array by n times\n",
    "    - ```iterable```: input array\n",
    "    - ```reps```: number of repetitions, it can be a tuple to represent repetitions along x-axis and y-axis"
   ]
  },
  {
   "cell_type": "code",
   "execution_count": 20,
   "id": "802cdda8",
   "metadata": {
    "ExecuteTime": {
     "end_time": "2023-11-29T18:59:05.333092Z",
     "start_time": "2023-11-29T18:59:05.328957Z"
    }
   },
   "outputs": [
    {
     "name": "stdout",
     "output_type": "stream",
     "text": [
      "[0 0 0 0 1 1 1 1 2 2 2 2 3 3 3 3 4 4 4 4 5 5 5 5]\n"
     ]
    }
   ],
   "source": [
    "# No axis specified, then flatten the input array first and repeat\n",
    "# Data Augemnation \n",
    "arr = [[0, 1, 2], [3, 4, 5]]\n",
    "print(np.repeat(arr, 4)) "
   ]
  },
  {
   "cell_type": "code",
   "execution_count": 21,
   "id": "169006a7",
   "metadata": {
    "ExecuteTime": {
     "end_time": "2023-11-29T18:59:06.553038Z",
     "start_time": "2023-11-29T18:59:06.549076Z"
    }
   },
   "outputs": [
    {
     "name": "stdout",
     "output_type": "stream",
     "text": [
      "[[0 1 2]\n",
      " [0 1 2]\n",
      " [0 1 2]\n",
      " [3 4 5]\n",
      " [3 4 5]\n",
      " [3 4 5]]\n"
     ]
    }
   ],
   "source": [
    "# An example of repeating along x-axis\n",
    "arr = [[0, 1, 2], [3, 4, 5]]\n",
    "print(np.repeat(arr, 3, axis=0)) # row "
   ]
  },
  {
   "cell_type": "code",
   "execution_count": 22,
   "id": "877deb97",
   "metadata": {
    "ExecuteTime": {
     "end_time": "2023-11-29T18:59:07.824310Z",
     "start_time": "2023-11-29T18:59:07.811423Z"
    }
   },
   "outputs": [
    {
     "name": "stdout",
     "output_type": "stream",
     "text": [
      "[[0 0 0 1 1 1 2 2 2]\n",
      " [3 3 3 4 4 4 5 5 5]]\n"
     ]
    }
   ],
   "source": [
    "# An example of repeating along y-axis\n",
    "arr = [[0, 1, 2], [3, 4, 5]]\n",
    "print(np.repeat(arr, 3, axis=1))    "
   ]
  },
  {
   "cell_type": "code",
   "execution_count": 23,
   "id": "e7f1b8f9",
   "metadata": {
    "ExecuteTime": {
     "end_time": "2023-11-29T18:59:08.952406Z",
     "start_time": "2023-11-29T18:59:08.947890Z"
    }
   },
   "outputs": [
    {
     "name": "stdout",
     "output_type": "stream",
     "text": [
      "[0 1 2 0 1 2 0 1 2]\n"
     ]
    }
   ],
   "source": [
    "# Repeat the whole array by a specified number of times\n",
    "arr = [0, 1, 2]\n",
    "print(np.tile(arr, 3))"
   ]
  },
  {
   "cell_type": "code",
   "execution_count": 24,
   "id": "5472b97d",
   "metadata": {
    "ExecuteTime": {
     "end_time": "2023-11-29T18:59:09.683874Z",
     "start_time": "2023-11-29T18:59:09.679839Z"
    }
   },
   "outputs": [
    {
     "name": "stdout",
     "output_type": "stream",
     "text": [
      "[[0 1 2 0 1 2]\n",
      " [0 1 2 0 1 2]]\n"
     ]
    }
   ],
   "source": [
    "# Repeat along specified axes\n",
    "print(np.tile(arr, (2,2)))"
   ]
  },
  {
   "cell_type": "markdown",
   "id": "8daa401f",
   "metadata": {},
   "source": [
    "### Create an identity matrix of given size\n",
    "- ```np.eye(size, k=0)```: create an identity matrix of given size\n",
    "    - ```size```: the size of the identity matrix\n",
    "    - ```k```: the diagonal offset\n",
    "- ```np.identity()```: same as ```np.eye()``` but does not carry parameters"
   ]
  },
  {
   "cell_type": "code",
   "execution_count": 25,
   "id": "c89c1051",
   "metadata": {
    "ExecuteTime": {
     "end_time": "2023-11-29T18:59:11.404790Z",
     "start_time": "2023-11-29T18:59:11.400297Z"
    }
   },
   "outputs": [
    {
     "name": "stdout",
     "output_type": "stream",
     "text": [
      "[[1. 0. 0. 0.]\n",
      " [0. 1. 0. 0.]\n",
      " [0. 0. 1. 0.]\n",
      " [0. 0. 0. 1.]]\n",
      "<class 'numpy.ndarray'>\n"
     ]
    }
   ],
   "source": [
    "identity_matrix = np.eye(4)\n",
    "#identity_matrix = identity_matrix.astype(int)\n",
    "print(identity_matrix)\n",
    "print(type(identity_matrix))"
   ]
  },
  {
   "cell_type": "code",
   "execution_count": 26,
   "id": "0e7fee04",
   "metadata": {
    "ExecuteTime": {
     "end_time": "2023-11-29T18:59:12.432898Z",
     "start_time": "2023-11-29T18:59:12.428492Z"
    }
   },
   "outputs": [
    {
     "name": "stdout",
     "output_type": "stream",
     "text": [
      "[[1 0 0]\n",
      " [0 1 0]\n",
      " [0 0 1]]\n"
     ]
    }
   ],
   "source": [
    "identity_matrix = np.eye(3).astype(int)\n",
    "#identity_matrix = identity_matrix.astype(int)\n",
    "print(identity_matrix)"
   ]
  },
  {
   "cell_type": "code",
   "execution_count": 27,
   "id": "fe0bd590",
   "metadata": {
    "ExecuteTime": {
     "end_time": "2023-11-29T18:59:13.176735Z",
     "start_time": "2023-11-29T18:59:13.172442Z"
    }
   },
   "outputs": [
    {
     "name": "stdout",
     "output_type": "stream",
     "text": [
      "[[0. 0. 1. 0. 0.]\n",
      " [0. 0. 0. 1. 0.]\n",
      " [0. 0. 0. 0. 1.]\n",
      " [0. 0. 0. 0. 0.]\n",
      " [0. 0. 0. 0. 0.]]\n"
     ]
    }
   ],
   "source": [
    "# An example of diagonal offset\n",
    "identity_matrix = np.eye(5, k=2) # default k = 0\n",
    "print(identity_matrix)"
   ]
  },
  {
   "cell_type": "code",
   "execution_count": 28,
   "id": "0ac37a8f",
   "metadata": {
    "ExecuteTime": {
     "end_time": "2023-11-29T18:59:14.300109Z",
     "start_time": "2023-11-29T18:59:14.295559Z"
    }
   },
   "outputs": [
    {
     "name": "stdout",
     "output_type": "stream",
     "text": [
      "[[1. 0. 0. 0. 0.]\n",
      " [0. 1. 0. 0. 0.]\n",
      " [0. 0. 1. 0. 0.]\n",
      " [0. 0. 0. 1. 0.]\n",
      " [0. 0. 0. 0. 1.]]\n",
      "<class 'numpy.ndarray'>\n"
     ]
    }
   ],
   "source": [
    "identity_matrix = np.identity(5)\n",
    "print(identity_matrix)\n",
    "print(type(identity_matrix))"
   ]
  },
  {
   "cell_type": "markdown",
   "id": "2833fa27",
   "metadata": {},
   "source": [
    "### Create an array with given values on the diagonal"
   ]
  },
  {
   "cell_type": "code",
   "execution_count": 29,
   "id": "a3d1c71a",
   "metadata": {
    "ExecuteTime": {
     "end_time": "2023-11-29T18:59:15.446247Z",
     "start_time": "2023-11-29T18:59:15.440860Z"
    }
   },
   "outputs": [
    {
     "name": "stdout",
     "output_type": "stream",
     "text": [
      "[[0.9077352  0.06711202 0.16210455 0.67865977 0.81034547]\n",
      " [0.25258544 0.10197168 0.59669968 0.44327104 0.83846988]\n",
      " [0.74978918 0.2886051  0.0352152  0.69552914 0.01768453]\n",
      " [0.93740486 0.87206448 0.79190021 0.81839287 0.91809036]\n",
      " [0.8093287  0.85974534 0.14084251 0.87041855 0.46132064]]\n",
      "\n",
      "\n",
      "\n",
      "Values on the diagonal: [0.9077352  0.10197168 0.0352152  0.81839287 0.46132064]\n"
     ]
    }
   ],
   "source": [
    "arr = np.random.rand(5,5)\n",
    "print(arr)\n",
    "print(\"\\n\\n\")\n",
    "# Extract values on the diagonal\n",
    "print('Values on the diagonal: ' + str(np.diag(arr)))"
   ]
  },
  {
   "cell_type": "code",
   "execution_count": 30,
   "id": "bb10ee78",
   "metadata": {
    "ExecuteTime": {
     "end_time": "2023-11-29T18:59:16.772922Z",
     "start_time": "2023-11-29T18:59:16.769099Z"
    }
   },
   "outputs": [
    {
     "name": "stdout",
     "output_type": "stream",
     "text": [
      "[[1 0 0 0 0 0]\n",
      " [0 2 0 0 0 0]\n",
      " [0 0 3 0 0 0]\n",
      " [0 0 0 4 0 0]\n",
      " [0 0 0 0 5 0]\n",
      " [0 0 0 0 0 6]]\n"
     ]
    }
   ],
   "source": [
    "# Create a matrix given values on the diagonal\n",
    "# All non-diagonal values set to zeros\n",
    "arr = np.diag([1,2,3,4,5,6])\n",
    "print(arr)"
   ]
  },
  {
   "cell_type": "markdown",
   "id": "ed44e1c4",
   "metadata": {},
   "source": [
    "### Inspect an Array"
   ]
  },
  {
   "cell_type": "code",
   "execution_count": 31,
   "id": "f9b1c69f",
   "metadata": {
    "ExecuteTime": {
     "end_time": "2023-11-29T18:59:17.744685Z",
     "start_time": "2023-11-29T18:59:17.739934Z"
    }
   },
   "outputs": [
    {
     "name": "stdout",
     "output_type": "stream",
     "text": [
      "class:  ndarray\n",
      "shape:  (2, 3)\n",
      "strides:  (24, 8)\n",
      "itemsize:  8\n",
      "aligned:  True\n",
      "contiguous:  True\n",
      "fortran:  False\n",
      "data pointer: 0x1f1ca752220\n",
      "byteorder:  little\n",
      "byteswap:  False\n",
      "type: int64\n",
      "None\n"
     ]
    }
   ],
   "source": [
    "arr = np.array([[1,2,3], [4,5,6]], dtype=np.int64)\n",
    "print(np.info(arr))"
   ]
  },
  {
   "cell_type": "code",
   "execution_count": 32,
   "id": "ea7aba22",
   "metadata": {
    "ExecuteTime": {
     "end_time": "2023-11-29T18:59:18.732095Z",
     "start_time": "2023-11-29T18:59:18.728247Z"
    }
   },
   "outputs": [
    {
     "name": "stdout",
     "output_type": "stream",
     "text": [
      "(2, 3)\n"
     ]
    }
   ],
   "source": [
    "print(arr.shape)"
   ]
  },
  {
   "cell_type": "code",
   "execution_count": 33,
   "id": "c25c38fa",
   "metadata": {
    "ExecuteTime": {
     "end_time": "2023-11-29T18:59:19.644608Z",
     "start_time": "2023-11-29T18:59:19.640603Z"
    }
   },
   "outputs": [
    {
     "name": "stdout",
     "output_type": "stream",
     "text": [
      "2\n"
     ]
    }
   ],
   "source": [
    "print(len(arr)) # print number of rows "
   ]
  },
  {
   "cell_type": "code",
   "execution_count": 34,
   "id": "3885cf61",
   "metadata": {
    "ExecuteTime": {
     "end_time": "2023-11-29T18:59:20.259609Z",
     "start_time": "2023-11-29T18:59:20.256000Z"
    }
   },
   "outputs": [
    {
     "name": "stdout",
     "output_type": "stream",
     "text": [
      "2\n"
     ]
    }
   ],
   "source": [
    "print(arr.ndim)   #the number of dimensions of an array"
   ]
  },
  {
   "cell_type": "code",
   "execution_count": 35,
   "id": "7d5ead4d",
   "metadata": {
    "ExecuteTime": {
     "end_time": "2023-11-29T18:59:21.188408Z",
     "start_time": "2023-11-29T18:59:21.184829Z"
    }
   },
   "outputs": [
    {
     "name": "stdout",
     "output_type": "stream",
     "text": [
      "6\n"
     ]
    }
   ],
   "source": [
    "print(arr.size)"
   ]
  },
  {
   "cell_type": "code",
   "execution_count": 36,
   "id": "56728b9e",
   "metadata": {
    "ExecuteTime": {
     "end_time": "2023-11-29T18:59:21.962882Z",
     "start_time": "2023-11-29T18:59:21.956431Z"
    }
   },
   "outputs": [
    {
     "name": "stdout",
     "output_type": "stream",
     "text": [
      "(2, 2, 2)\n"
     ]
    },
    {
     "data": {
      "text/plain": [
       "3"
      ]
     },
     "execution_count": 36,
     "metadata": {},
     "output_type": "execute_result"
    }
   ],
   "source": [
    "threeD = np.array([  [[2,3] , [4,5]] , [[4,3],[2,8]]     ])\n",
    "print(threeD.shape)\n",
    "threeD.ndim"
   ]
  },
  {
   "cell_type": "markdown",
   "id": "5ba03222",
   "metadata": {},
   "source": [
    "## Sampling Methods"
   ]
  },
  {
   "cell_type": "code",
   "execution_count": 37,
   "id": "edb929ed",
   "metadata": {
    "ExecuteTime": {
     "end_time": "2023-11-29T18:59:23.386195Z",
     "start_time": "2023-11-29T18:59:23.380689Z"
    }
   },
   "outputs": [
    {
     "data": {
      "text/plain": [
       "array([0.49460165, 0.2280831 , 0.25547392])"
      ]
     },
     "execution_count": 37,
     "metadata": {},
     "output_type": "execute_result"
    }
   ],
   "source": [
    "# set seed\n",
    "np.random.seed(50)\n",
    "np.random.rand(3)\n",
    "# another way \n",
    "#rs = np.random.RandomState(23)\n",
    "#rs.rand(3)"
   ]
  },
  {
   "cell_type": "code",
   "execution_count": 38,
   "id": "b51f30da",
   "metadata": {
    "ExecuteTime": {
     "end_time": "2023-11-29T18:59:24.260182Z",
     "start_time": "2023-11-29T18:59:24.256331Z"
    }
   },
   "outputs": [
    {
     "name": "stdout",
     "output_type": "stream",
     "text": [
      "0.39632990972277693\n"
     ]
    }
   ],
   "source": [
    "# generate a random scalar\n",
    "print(np.random.rand())"
   ]
  },
  {
   "cell_type": "code",
   "execution_count": 39,
   "id": "9530fabc",
   "metadata": {
    "ExecuteTime": {
     "end_time": "2023-11-29T18:59:25.004387Z",
     "start_time": "2023-11-29T18:59:25.000224Z"
    }
   },
   "outputs": [
    {
     "name": "stdout",
     "output_type": "stream",
     "text": [
      "3.77315097691124\n"
     ]
    }
   ],
   "source": [
    "# generate a random scalar\n",
    "print(np.random.rand() * 10)   "
   ]
  },
  {
   "cell_type": "code",
   "execution_count": 40,
   "id": "8921be39",
   "metadata": {
    "ExecuteTime": {
     "end_time": "2023-11-29T18:59:26.128739Z",
     "start_time": "2023-11-29T18:59:26.124263Z"
    }
   },
   "outputs": [
    {
     "name": "stdout",
     "output_type": "stream",
     "text": [
      "9\n"
     ]
    }
   ],
   "source": [
    "# generate a random scalar\n",
    "print(int(np.random.rand() * 10))"
   ]
  },
  {
   "cell_type": "code",
   "execution_count": 41,
   "id": "ab73edd9",
   "metadata": {
    "ExecuteTime": {
     "end_time": "2023-11-29T18:59:26.816680Z",
     "start_time": "2023-11-29T18:59:26.812287Z"
    }
   },
   "outputs": [
    {
     "name": "stdout",
     "output_type": "stream",
     "text": [
      "[[0.4081972  0.77189399 0.76053669]\n",
      " [0.31000935 0.3465412  0.35176482]\n",
      " [0.14546686 0.97266468 0.90917844]]\n"
     ]
    }
   ],
   "source": [
    "# generate a 2-D array\n",
    "print(np.random.rand(3,3)) "
   ]
  },
  {
   "cell_type": "code",
   "execution_count": 42,
   "id": "fa2c868a",
   "metadata": {
    "ExecuteTime": {
     "end_time": "2023-11-29T18:59:27.792589Z",
     "start_time": "2023-11-29T18:59:27.788212Z"
    }
   },
   "outputs": [
    {
     "name": "stdout",
     "output_type": "stream",
     "text": [
      "[6 1 7]\n"
     ]
    }
   ],
   "source": [
    "# np.ranodm.randint(low, high, size, dtype)\n",
    "print(np.random.randint(1, 10, 3, 'i8'))"
   ]
  },
  {
   "cell_type": "code",
   "execution_count": 43,
   "id": "777876a3",
   "metadata": {
    "ExecuteTime": {
     "end_time": "2023-11-29T18:59:29.941689Z",
     "start_time": "2023-11-29T18:59:29.936337Z"
    }
   },
   "outputs": [
    {
     "name": "stdout",
     "output_type": "stream",
     "text": [
      "[0.26465872 0.67136671 0.78927019 0.36441934 0.11342968 0.16679188\n",
      " 0.01824974 0.78856948 0.27714299 0.86507366]\n",
      "\n",
      "[0.52872064 0.69292202 0.05274132 0.77317277 0.20118524 0.01749162\n",
      " 0.31797437 0.67441032 0.27666963 0.20606164]\n",
      "\n",
      "[0.8856327  0.7314353  0.9259965  0.99136739 0.93596284 0.19035143\n",
      " 0.15612517 0.89836939 0.45540685 0.29030955]\n",
      "\n",
      "[0.21935083 0.6991026  0.52071031 0.27028162 0.90723576 0.95331391\n",
      " 0.98321563 0.51788829 0.98754091 0.34743924]\n"
     ]
    }
   ],
   "source": [
    "# the following methods are the same as np.random.rand()\n",
    "print(np.random.random_sample(10))\n",
    "print()\n",
    "print(np.random.random(10))\n",
    "print()\n",
    "print(np.random.ranf(10))\n",
    "print()\n",
    "print(np.random.sample(10))"
   ]
  },
  {
   "cell_type": "code",
   "execution_count": 44,
   "id": "ad9777c4",
   "metadata": {
    "ExecuteTime": {
     "end_time": "2023-11-29T18:59:31.997962Z",
     "start_time": "2023-11-29T18:59:31.993476Z"
    }
   },
   "outputs": [
    {
     "name": "stdout",
     "output_type": "stream",
     "text": [
      "[2 2 0 0 2 1 2 2 2 2]\n"
     ]
    }
   ],
   "source": [
    "# np.random.choice(iterable_or_int, size, replace=True, p=weights)\n",
    "print(np.random.choice(range(3), 10, replace=True, p=[0.1, 0.3, 0.6]))"
   ]
  },
  {
   "cell_type": "code",
   "execution_count": 45,
   "id": "04512aca",
   "metadata": {
    "ExecuteTime": {
     "end_time": "2023-11-29T18:59:32.651593Z",
     "start_time": "2023-11-29T18:59:32.647527Z"
    }
   },
   "outputs": [
    {
     "name": "stdout",
     "output_type": "stream",
     "text": [
      "[2 1 2 0 2 1 1 1 0 1]\n"
     ]
    }
   ],
   "source": [
    "print(np.random.choice(3, 10))"
   ]
  },
  {
   "cell_type": "markdown",
   "id": "63d16263",
   "metadata": {},
   "source": [
    "### shuffle an array in place"
   ]
  },
  {
   "cell_type": "code",
   "execution_count": 46,
   "id": "adf29337",
   "metadata": {
    "ExecuteTime": {
     "end_time": "2023-11-29T18:59:33.700597Z",
     "start_time": "2023-11-29T18:59:33.697200Z"
    }
   },
   "outputs": [
    {
     "name": "stdout",
     "output_type": "stream",
     "text": [
      "[0 1 2 3 4 5 6 7 8 9]\n"
     ]
    }
   ],
   "source": [
    "arr = np.array(range(10))\n",
    "print(arr)"
   ]
  },
  {
   "cell_type": "code",
   "execution_count": 47,
   "id": "053831a1",
   "metadata": {
    "ExecuteTime": {
     "end_time": "2023-11-29T18:59:34.728018Z",
     "start_time": "2023-11-29T18:59:34.723653Z"
    }
   },
   "outputs": [
    {
     "name": "stdout",
     "output_type": "stream",
     "text": [
      "[4 1 9 2 5 7 8 0 6 3]\n"
     ]
    }
   ],
   "source": [
    "np.random.shuffle(arr)\n",
    "print(arr)"
   ]
  },
  {
   "cell_type": "code",
   "execution_count": 48,
   "id": "ff87a908",
   "metadata": {
    "ExecuteTime": {
     "end_time": "2023-11-29T18:59:35.473799Z",
     "start_time": "2023-11-29T18:59:35.469623Z"
    }
   },
   "outputs": [
    {
     "data": {
      "text/plain": [
       "array([4, 6, 2, 0, 5, 9, 8, 7, 3, 1])"
      ]
     },
     "execution_count": 48,
     "metadata": {},
     "output_type": "execute_result"
    }
   ],
   "source": [
    "# similar to np.random.shuffle(), but it returns a copy rather than making changes in place\n",
    "np.random.permutation(arr)"
   ]
  },
  {
   "cell_type": "markdown",
   "id": "e3818789",
   "metadata": {},
   "source": [
    "## Math Functions"
   ]
  },
  {
   "cell_type": "code",
   "execution_count": 49,
   "id": "3fb926f8",
   "metadata": {
    "ExecuteTime": {
     "end_time": "2023-11-29T18:59:36.574457Z",
     "start_time": "2023-11-29T18:59:36.568350Z"
    }
   },
   "outputs": [
    {
     "data": {
      "text/plain": [
       "array([[0.61323757, 0.29810165, 0.60237917, 0.42567684, 0.53854438],\n",
       "       [0.48672986, 0.49989164, 0.91745948, 0.26287702, 0.04969769],\n",
       "       [0.46269203, 0.40821902, 0.48704348, 0.07051578, 0.58210861],\n",
       "       [0.9870218 , 0.20908846, 0.21237612, 0.96113505, 0.70695408],\n",
       "       [0.59296821, 0.38085241, 0.6387405 , 0.50242857, 0.08979307]])"
      ]
     },
     "execution_count": 49,
     "metadata": {},
     "output_type": "execute_result"
    }
   ],
   "source": [
    "arr = np.random.rand(5,5)\n",
    "arr"
   ]
  },
  {
   "cell_type": "markdown",
   "id": "ab5d9dee",
   "metadata": {},
   "source": [
    "### element-wise addition, subtraction, multiplication and division"
   ]
  },
  {
   "cell_type": "code",
   "execution_count": 50,
   "id": "c8968b8e",
   "metadata": {
    "ExecuteTime": {
     "end_time": "2023-11-29T18:59:37.547254Z",
     "start_time": "2023-11-29T18:59:37.542294Z"
    }
   },
   "outputs": [
    {
     "name": "stdout",
     "output_type": "stream",
     "text": [
      "[[10.61323757 10.29810165 10.60237917 10.42567684 10.53854438]\n",
      " [10.48672986 10.49989164 10.91745948 10.26287702 10.04969769]\n",
      " [10.46269203 10.40821902 10.48704348 10.07051578 10.58210861]\n",
      " [10.9870218  10.20908846 10.21237612 10.96113505 10.70695408]\n",
      " [10.59296821 10.38085241 10.6387405  10.50242857 10.08979307]]\n",
      "\n",
      "[[-9.38676243 -9.70189835 -9.39762083 -9.57432316 -9.46145562]\n",
      " [-9.51327014 -9.50010836 -9.08254052 -9.73712298 -9.95030231]\n",
      " [-9.53730797 -9.59178098 -9.51295652 -9.92948422 -9.41789139]\n",
      " [-9.0129782  -9.79091154 -9.78762388 -9.03886495 -9.29304592]\n",
      " [-9.40703179 -9.61914759 -9.3612595  -9.49757143 -9.91020693]]\n",
      "\n",
      "[[6.13237574 2.98101651 6.02379173 4.2567684  5.38544385]\n",
      " [4.86729857 4.99891638 9.17459483 2.62877022 0.49697686]\n",
      " [4.62692029 4.08219023 4.87043481 0.70515778 5.82108611]\n",
      " [9.87021798 2.09088456 2.12376118 9.6113505  7.06954075]\n",
      " [5.92968213 3.80852407 6.38740496 5.02428569 0.89793075]]\n",
      "\n",
      "[[0.06132376 0.02981017 0.06023792 0.04256768 0.05385444]\n",
      " [0.04867299 0.04998916 0.09174595 0.0262877  0.00496977]\n",
      " [0.0462692  0.0408219  0.04870435 0.00705158 0.05821086]\n",
      " [0.09870218 0.02090885 0.02123761 0.0961135  0.07069541]\n",
      " [0.05929682 0.03808524 0.06387405 0.05024286 0.00897931]]\n"
     ]
    }
   ],
   "source": [
    "print(arr + 10)\n",
    "print()\n",
    "print(arr - 10)\n",
    "print()\n",
    "print(arr * 10)\n",
    "print()\n",
    "print(arr / 10)"
   ]
  },
  {
   "cell_type": "code",
   "execution_count": 51,
   "id": "b089c74d",
   "metadata": {
    "ExecuteTime": {
     "end_time": "2023-11-29T18:59:39.435509Z",
     "start_time": "2023-11-29T18:59:39.431063Z"
    }
   },
   "outputs": [
    {
     "name": "stdout",
     "output_type": "stream",
     "text": [
      "[ 9 11 13]\n",
      "[ 7 10  1]\n",
      "[ 7 20  3]\n"
     ]
    }
   ],
   "source": [
    "# the above operations can be performed using numpy built-in functions\n",
    "# which can save memory as the output can be stored in the original array rather than assigning new memory\n",
    "arr1 = np.array([1,2,3])\n",
    "x = np.add(arr1, [8,9,10], out=arr1)\n",
    "print(arr1)\n",
    "\n",
    "np.subtract(arr1, [2,1,12], out=arr1)\n",
    "print(arr1)\n",
    "\n",
    "np.multiply(arr1, [1,2,3], out=arr1)\n",
    "print(arr1)"
   ]
  },
  {
   "cell_type": "markdown",
   "id": "fb126f59",
   "metadata": {},
   "source": [
    "### element-wise exponentiation"
   ]
  },
  {
   "cell_type": "code",
   "execution_count": 52,
   "id": "bad6d81e",
   "metadata": {
    "ExecuteTime": {
     "end_time": "2023-11-29T18:59:40.721111Z",
     "start_time": "2023-11-29T18:59:40.716649Z"
    }
   },
   "outputs": [
    {
     "name": "stdout",
     "output_type": "stream",
     "text": [
      "[[1.84639959 1.34729874 1.8264591  1.53062606 1.71351083]\n",
      " [1.62698703 1.64854262 2.50292358 1.30066676 1.05095333]\n",
      " [1.5883441  1.50413657 1.62749737 1.0730615  1.78980846]\n",
      " [2.68323136 1.23255402 1.23661291 2.61466256 2.0278053 ]\n",
      " [1.80935099 1.46353158 1.89409376 1.65273017 1.09394789]]\n"
     ]
    }
   ],
   "source": [
    "print(np.exp(arr))"
   ]
  },
  {
   "cell_type": "markdown",
   "id": "c5ed88af",
   "metadata": {},
   "source": [
    "### element-wise logorithm"
   ]
  },
  {
   "cell_type": "code",
   "execution_count": 53,
   "id": "f023b283",
   "metadata": {
    "ExecuteTime": {
     "end_time": "2023-11-29T18:59:42.123637Z",
     "start_time": "2023-11-29T18:59:42.119556Z"
    }
   },
   "outputs": [
    {
     "name": "stdout",
     "output_type": "stream",
     "text": [
      "[[-0.48900286 -1.21032074 -0.50686818 -0.85407481 -0.61888536]\n",
      " [-0.72004602 -0.69336393 -0.08614686 -1.33606895 -3.0017969 ]\n",
      " [-0.77069361 -0.89595143 -0.71940188 -2.65191879 -0.54109823]\n",
      " [-0.01306315 -1.56499788 -1.54939643 -0.03964035 -0.34678957]\n",
      " [-0.52261448 -0.96534336 -0.44825702 -0.6883018  -2.41024743]]\n"
     ]
    }
   ],
   "source": [
    "# natural log ( base e )\n",
    "print(np.log(arr)) "
   ]
  },
  {
   "cell_type": "code",
   "execution_count": 54,
   "id": "35bfc9b0",
   "metadata": {
    "ExecuteTime": {
     "end_time": "2023-11-29T18:59:43.017029Z",
     "start_time": "2023-11-29T18:59:43.012228Z"
    }
   },
   "outputs": [
    {
     "name": "stdout",
     "output_type": "stream",
     "text": [
      "[[-0.705482   -1.74612373 -0.7312562  -1.2321695  -0.89286284]\n",
      " [-1.03880682 -1.0003127  -0.12428365 -1.92754005 -4.33067751]\n",
      " [-1.11187585 -1.29258468 -1.03787752 -3.82591008 -0.78063974]\n",
      " [-0.01884615 -2.25781468 -2.23530655 -0.05718894 -0.5003116 ]\n",
      " [-0.75397333 -1.39269608 -0.64669817 -0.99300959 -3.47725201]]\n",
      "\n",
      "[[-0.21237124 -0.52563562 -0.22013005 -0.37091998 -0.2687785 ]\n",
      " [-0.31271201 -0.30112413 -0.03741311 -0.58024737 -1.30366383]\n",
      " [-0.33470798 -0.38910676 -0.31243227 -1.1517137  -0.23499598]\n",
      " [-0.00567326 -0.67966994 -0.67289432 -0.01721559 -0.1506088 ]\n",
      " [-0.22696859 -0.4192433  -0.19467555 -0.29892567 -1.04675716]]\n"
     ]
    }
   ],
   "source": [
    "# base 2\n",
    "print(np.log2(arr)) \n",
    "print()\n",
    "# base 10\n",
    "print(np.log10(arr))    "
   ]
  },
  {
   "cell_type": "markdown",
   "id": "a9fff4d0",
   "metadata": {},
   "source": [
    "### element-wise square root"
   ]
  },
  {
   "cell_type": "code",
   "execution_count": 55,
   "id": "b9efab89",
   "metadata": {
    "ExecuteTime": {
     "end_time": "2023-11-29T18:59:44.671929Z",
     "start_time": "2023-11-29T18:59:44.668143Z"
    }
   },
   "outputs": [
    {
     "name": "stdout",
     "output_type": "stream",
     "text": [
      "[[0.78309487 0.54598686 0.7761309  0.65243915 0.73385583]\n",
      " [0.69766027 0.70703015 0.95784105 0.51271534 0.22292978]\n",
      " [0.68021469 0.6389202  0.69788501 0.26554807 0.76296043]\n",
      " [0.99348971 0.45726191 0.46084283 0.98037495 0.84080561]\n",
      " [0.77004429 0.61713241 0.79921242 0.70882196 0.29965493]]\n"
     ]
    }
   ],
   "source": [
    "print(np.sqrt(arr))"
   ]
  },
  {
   "cell_type": "markdown",
   "id": "553392f7",
   "metadata": {},
   "source": [
    "### element-wise sine and cosine"
   ]
  },
  {
   "cell_type": "code",
   "execution_count": 56,
   "id": "f05145a7",
   "metadata": {
    "ExecuteTime": {
     "end_time": "2023-11-29T18:59:45.692111Z",
     "start_time": "2023-11-29T18:59:45.687645Z"
    }
   },
   "outputs": [
    {
     "name": "stdout",
     "output_type": "stream",
     "text": [
      "[[0.57551812 0.29370611 0.56660449 0.41293731 0.51288695]\n",
      " [0.46773802 0.47933044 0.79405996 0.25985981 0.04967723]\n",
      " [0.4463587  0.39697533 0.4680152  0.07045735 0.54978649]\n",
      " [0.83438816 0.2075683  0.21078323 0.81984201 0.64952084]\n",
      " [0.55882498 0.37171193 0.59618473 0.48155539 0.08967246]]\n",
      "\n",
      "[[0.81778902 0.95589577 0.8239899  0.91075945 0.85845616]\n",
      " [0.88386715 0.87763451 0.60783944 0.96564635 0.99876532]\n",
      " [0.89485413 0.91782928 0.88372041 0.99751479 0.83530522]\n",
      " [0.55117728 0.97822053 0.97753283 0.57258979 0.76034379]\n",
      " [0.82928562 0.92834812 0.80284729 0.87641566 0.99597131]]\n"
     ]
    }
   ],
   "source": [
    "print(np.sin(arr))\n",
    "print()\n",
    "print(np.cos(arr))"
   ]
  },
  {
   "cell_type": "markdown",
   "id": "5ec18f30",
   "metadata": {},
   "source": [
    "### sum along a specified axis"
   ]
  },
  {
   "cell_type": "code",
   "execution_count": 57,
   "id": "183e1ee0",
   "metadata": {
    "ExecuteTime": {
     "end_time": "2023-11-29T18:59:46.892401Z",
     "start_time": "2023-11-29T18:59:46.888334Z"
    }
   },
   "outputs": [
    {
     "name": "stdout",
     "output_type": "stream",
     "text": [
      "[3.14264947 1.79615318 2.85799875 2.22263326 1.96709783]\n"
     ]
    }
   ],
   "source": [
    "# sum along the row\n",
    "print(np.sum(arr, axis=0)) "
   ]
  },
  {
   "cell_type": "code",
   "execution_count": 58,
   "id": "fbc002b2",
   "metadata": {
    "ExecuteTime": {
     "end_time": "2023-11-29T18:59:47.572729Z",
     "start_time": "2023-11-29T18:59:47.569206Z"
    }
   },
   "outputs": [
    {
     "name": "stdout",
     "output_type": "stream",
     "text": [
      "[2.47793962 2.21665569 2.01057892 3.0765755  2.20478276]\n"
     ]
    }
   ],
   "source": [
    "# sum along the column\n",
    "print(np.sum(arr, axis=1)) "
   ]
  },
  {
   "cell_type": "code",
   "execution_count": 59,
   "id": "13a42b47",
   "metadata": {
    "ExecuteTime": {
     "end_time": "2023-11-29T18:59:48.812878Z",
     "start_time": "2023-11-29T18:59:48.808595Z"
    }
   },
   "outputs": [
    {
     "name": "stdout",
     "output_type": "stream",
     "text": [
      "11.98653248889483\n"
     ]
    }
   ],
   "source": [
    "print(np.sum(arr))"
   ]
  },
  {
   "cell_type": "markdown",
   "id": "49a6c74b",
   "metadata": {},
   "source": [
    "### compute the min and max along a specified axis"
   ]
  },
  {
   "cell_type": "code",
   "execution_count": 60,
   "id": "22909b9a",
   "metadata": {
    "ExecuteTime": {
     "end_time": "2023-11-29T18:59:49.552266Z",
     "start_time": "2023-11-29T18:59:49.548090Z"
    }
   },
   "outputs": [
    {
     "name": "stdout",
     "output_type": "stream",
     "text": [
      "[0.46269203 0.20908846 0.21237612 0.07051578 0.04969769]\n"
     ]
    }
   ],
   "source": [
    "# calculate min along the row\n",
    "print(np.min(arr, axis=0))"
   ]
  },
  {
   "cell_type": "code",
   "execution_count": 61,
   "id": "ca8f1c86",
   "metadata": {
    "ExecuteTime": {
     "end_time": "2023-11-29T18:59:50.588574Z",
     "start_time": "2023-11-29T18:59:50.584721Z"
    }
   },
   "outputs": [
    {
     "name": "stdout",
     "output_type": "stream",
     "text": [
      "[0.61323757 0.91745948 0.58210861 0.9870218  0.6387405 ]\n"
     ]
    }
   ],
   "source": [
    "# calculate max along the column\n",
    "print(np.max(arr, axis=1))   "
   ]
  },
  {
   "cell_type": "code",
   "execution_count": 62,
   "id": "50255425",
   "metadata": {
    "ExecuteTime": {
     "end_time": "2023-11-29T18:59:51.488437Z",
     "start_time": "2023-11-29T18:59:51.484494Z"
    }
   },
   "outputs": [
    {
     "name": "stdout",
     "output_type": "stream",
     "text": [
      "0.9870217983557753\n",
      "0.049697686154183573\n"
     ]
    }
   ],
   "source": [
    "# if axis not specified, calculate the max/min value of all elements\n",
    "print(np.max(arr))\n",
    "print(np.min(arr))"
   ]
  },
  {
   "cell_type": "markdown",
   "id": "bfe30bfa",
   "metadata": {},
   "source": [
    "### compute element-wise min and max of two arrays"
   ]
  },
  {
   "cell_type": "code",
   "execution_count": 63,
   "id": "9b024276",
   "metadata": {
    "ExecuteTime": {
     "end_time": "2023-11-29T18:59:52.457315Z",
     "start_time": "2023-11-29T18:59:52.452229Z"
    }
   },
   "outputs": [
    {
     "name": "stdout",
     "output_type": "stream",
     "text": [
      "[1 4 5 8 9]\n",
      "\n",
      "[0 3 3 7 7]\n"
     ]
    }
   ],
   "source": [
    "arr1 = np.array([1, 3, 5, 7, 9])\n",
    "arr2 = np.array([0, 4, 3, 8, 7])\n",
    "print(np.maximum(arr1, arr2))\n",
    "print()\n",
    "print(np.minimum(arr1, arr2))"
   ]
  },
  {
   "cell_type": "markdown",
   "id": "03d6a42e",
   "metadata": {},
   "source": [
    "### compute the mean"
   ]
  },
  {
   "cell_type": "code",
   "execution_count": 64,
   "id": "5139d9ed",
   "metadata": {
    "ExecuteTime": {
     "end_time": "2023-11-29T18:59:53.509163Z",
     "start_time": "2023-11-29T18:59:53.503937Z"
    }
   },
   "outputs": [
    {
     "name": "stdout",
     "output_type": "stream",
     "text": [
      "0.47946129955579325\n",
      "\n",
      "[0.62852989 0.35923064 0.57159975 0.44452665 0.39341957]\n",
      "\n",
      "[0.49558792 0.44333114 0.40211578 0.6153151  0.44095655]\n"
     ]
    }
   ],
   "source": [
    "# compute the overall mean\n",
    "print(np.mean(arr))\n",
    "print()\n",
    "# compute the mean along the row\n",
    "print(np.mean(arr, axis=0))   \n",
    "print()\n",
    "# compute the mean along the column\n",
    "print(np.mean(arr, axis=1)) "
   ]
  },
  {
   "cell_type": "markdown",
   "id": "7eb58e40",
   "metadata": {},
   "source": [
    "### compute the median"
   ]
  },
  {
   "cell_type": "code",
   "execution_count": 65,
   "id": "5b938c73",
   "metadata": {
    "ExecuteTime": {
     "end_time": "2023-11-29T18:59:54.522040Z",
     "start_time": "2023-11-29T18:59:54.516245Z"
    }
   },
   "outputs": [
    {
     "name": "stdout",
     "output_type": "stream",
     "text": [
      "7.0\n",
      "\n",
      "[0.59296821 0.38085241 0.60237917 0.42567684 0.53854438]\n",
      "\n",
      "[0.53854438 0.48672986 0.46269203 0.70695408 0.50242857]\n"
     ]
    }
   ],
   "source": [
    "# compute the overall median\n",
    "x = [1,2,4,6,7,8,9,12, 20]\n",
    "print(np.median(x))\n",
    "print()\n",
    "# compute the median along the row\n",
    "print(np.median(arr, axis=0)) \n",
    "print()\n",
    "# compute the median along the column\n",
    "print(np.median(arr, axis=1))"
   ]
  },
  {
   "cell_type": "markdown",
   "id": "f8075967",
   "metadata": {},
   "source": [
    "### compute the standard deviation & variance"
   ]
  },
  {
   "cell_type": "code",
   "execution_count": 66,
   "id": "4ec9f854",
   "metadata": {
    "ExecuteTime": {
     "end_time": "2023-11-29T18:59:55.711080Z",
     "start_time": "2023-11-29T18:59:55.704313Z"
    }
   },
   "outputs": [
    {
     "name": "stdout",
     "output_type": "stream",
     "text": [
      "0.25024367544311055\n",
      "\n",
      "[0.18848044 0.09892655 0.22858941 0.29781635 0.27029703]\n",
      "\n",
      "[0.11914651 0.28892601 0.17508594 0.3445388  0.19643479]\n",
      "\n",
      "0.06262189709927685\n",
      "\n",
      "[0.03552488 0.00978646 0.05225312 0.08869458 0.07306049]\n",
      "\n",
      "[0.01419589 0.08347824 0.03065509 0.11870698 0.03858663]\n"
     ]
    }
   ],
   "source": [
    "# compute the overall standard deviation\n",
    "print(np.std(arr))\n",
    "print()\n",
    "\n",
    "# compute the standard deviation along the row\n",
    "print(np.std(arr, axis=0))\n",
    "print()\n",
    "\n",
    "# compute the standard deviation along the column\n",
    "print(np.std(arr, axis=1))\n",
    "print()\n",
    "\n",
    "# compute the overall variance\n",
    "print(np.var(arr))\n",
    "print()\n",
    "\n",
    "# compute the variance along the row\n",
    "print(np.var(arr, axis=0))\n",
    "print()\n",
    "\n",
    "# compute the variance along the column\n",
    "print(np.var(arr, axis=1))"
   ]
  },
  {
   "cell_type": "markdown",
   "id": "2190b704",
   "metadata": {},
   "source": [
    "### compute the covariance & correlation"
   ]
  },
  {
   "cell_type": "code",
   "execution_count": 67,
   "id": "2ff1bc31",
   "metadata": {
    "ExecuteTime": {
     "end_time": "2023-11-29T18:59:58.619135Z",
     "start_time": "2023-11-29T18:59:58.613120Z"
    }
   },
   "outputs": [
    {
     "data": {
      "text/plain": [
       "array([[0.29717467, 0.82814423, 0.17545597, 0.90448946, 0.58831483,\n",
       "        0.01653446, 0.37002218, 0.0421295 ],\n",
       "       [0.12728055, 0.17926823, 0.16645859, 0.8836885 , 0.90595205,\n",
       "        0.23540098, 0.40725992, 0.47116016],\n",
       "       [0.83023402, 0.29200762, 0.17382853, 0.45814311, 0.90242916,\n",
       "        0.59493692, 0.41261333, 0.40565094],\n",
       "       [0.30848417, 0.31787873, 0.41508602, 0.63816707, 0.79526952,\n",
       "        0.03703341, 0.7345411 , 0.77257086],\n",
       "       [0.24442453, 0.98507686, 0.67500584, 0.89276474, 0.2430547 ,\n",
       "        0.05169588, 0.70974306, 0.95726431]])"
      ]
     },
     "execution_count": 67,
     "metadata": {},
     "output_type": "execute_result"
    }
   ],
   "source": [
    "arr = np.random.rand(5,8)\n",
    "arr"
   ]
  },
  {
   "cell_type": "code",
   "execution_count": 68,
   "id": "abfbf1d0",
   "metadata": {
    "ExecuteTime": {
     "end_time": "2023-11-29T19:00:00.551985Z",
     "start_time": "2023-11-29T19:00:00.495468Z"
    }
   },
   "outputs": [
    {
     "name": "stdout",
     "output_type": "stream",
     "text": [
      "[[ 0.11574664  0.05174499  0.00066924  0.02271365  0.04918467]\n",
      " [ 0.05174499  0.0994141   0.0272675   0.06076657  0.01040574]\n",
      " [ 0.00066924  0.0272675   0.06390655  0.0035774  -0.06755352]\n",
      " [ 0.02271365  0.06076657  0.0035774   0.07527547  0.04338815]\n",
      " [ 0.04918467  0.01040574 -0.06755352  0.04338815  0.13336772]]\n"
     ]
    }
   ],
   "source": [
    "print(np.cov(arr))"
   ]
  },
  {
   "cell_type": "code",
   "execution_count": 69,
   "id": "e5b6bc25",
   "metadata": {
    "ExecuteTime": {
     "end_time": "2023-11-29T19:00:02.168051Z",
     "start_time": "2023-11-29T19:00:02.163443Z"
    }
   },
   "outputs": [
    {
     "name": "stdout",
     "output_type": "stream",
     "text": [
      "[[ 1.         -0.23123571]\n",
      " [-0.23123571  1.        ]]\n"
     ]
    }
   ],
   "source": [
    "print(np.corrcoef(arr[:,0], arr[:,1]))"
   ]
  },
  {
   "cell_type": "markdown",
   "id": "73680009",
   "metadata": {},
   "source": [
    "### flatten an array"
   ]
  },
  {
   "cell_type": "code",
   "execution_count": 70,
   "id": "bb022d9d",
   "metadata": {
    "ExecuteTime": {
     "end_time": "2023-11-29T19:00:02.913229Z",
     "start_time": "2023-11-29T19:00:02.907700Z"
    }
   },
   "outputs": [
    {
     "data": {
      "text/plain": [
       "1"
      ]
     },
     "execution_count": 70,
     "metadata": {},
     "output_type": "execute_result"
    }
   ],
   "source": [
    "# return a copy\n",
    "new = arr.flatten()\n",
    "new.ndim # number of dimensions"
   ]
  },
  {
   "cell_type": "markdown",
   "id": "25204efd",
   "metadata": {},
   "source": [
    "### append elements to an array"
   ]
  },
  {
   "cell_type": "code",
   "execution_count": 71,
   "id": "abac6c47",
   "metadata": {
    "ExecuteTime": {
     "end_time": "2023-11-29T19:00:04.088113Z",
     "start_time": "2023-11-29T19:00:04.084878Z"
    }
   },
   "outputs": [],
   "source": [
    "arr = np.array([1,2,3])"
   ]
  },
  {
   "cell_type": "code",
   "execution_count": 72,
   "id": "f0111369",
   "metadata": {
    "ExecuteTime": {
     "end_time": "2023-11-29T19:00:04.753100Z",
     "start_time": "2023-11-29T19:00:04.748427Z"
    }
   },
   "outputs": [
    {
     "name": "stdout",
     "output_type": "stream",
     "text": [
      "[1 2 3 4 5 6]\n"
     ]
    }
   ],
   "source": [
    "# append an array and return a copy\n",
    "arr2 = np.append(arr, [4,5,6])    \n",
    "print(arr2)"
   ]
  },
  {
   "cell_type": "markdown",
   "id": "99fb2d76",
   "metadata": {},
   "source": [
    "### insert elements into an array"
   ]
  },
  {
   "cell_type": "code",
   "execution_count": 73,
   "id": "a080aa2f",
   "metadata": {
    "ExecuteTime": {
     "end_time": "2023-11-29T19:00:05.913394Z",
     "start_time": "2023-11-29T19:00:05.908345Z"
    }
   },
   "outputs": [
    {
     "name": "stdout",
     "output_type": "stream",
     "text": [
      "[100   1   2   3]\n"
     ]
    }
   ],
   "source": [
    "# np.insert(array, position, element)\n",
    "\n",
    "# insert a scalar at a certain position\n",
    "arr3 = np.insert(arr, 0, 100)    \n",
    "print(arr3)"
   ]
  },
  {
   "cell_type": "code",
   "execution_count": 74,
   "id": "815408ba",
   "metadata": {
    "ExecuteTime": {
     "end_time": "2023-11-29T19:00:06.928287Z",
     "start_time": "2023-11-29T19:00:06.923827Z"
    }
   },
   "outputs": [
    {
     "name": "stdout",
     "output_type": "stream",
     "text": [
      "[8 2 6 1 2 3]\n"
     ]
    }
   ],
   "source": [
    "# insert multiple values at a certain position\n",
    "arr3 = np.insert(arr, 0, [8,2,6])    \n",
    "print(arr3)"
   ]
  },
  {
   "cell_type": "code",
   "execution_count": 75,
   "id": "1eee5dfc",
   "metadata": {
    "ExecuteTime": {
     "end_time": "2023-11-29T19:00:08.126900Z",
     "start_time": "2023-11-29T19:00:08.121442Z"
    }
   },
   "outputs": [
    {
     "data": {
      "text/plain": [
       "array([1, 2, 3])"
      ]
     },
     "execution_count": 75,
     "metadata": {},
     "output_type": "execute_result"
    }
   ],
   "source": [
    "arr"
   ]
  },
  {
   "cell_type": "markdown",
   "id": "99babea9",
   "metadata": {},
   "source": [
    "### delete elements from an array"
   ]
  },
  {
   "cell_type": "code",
   "execution_count": 76,
   "id": "9d003116",
   "metadata": {
    "ExecuteTime": {
     "end_time": "2023-11-29T19:00:08.941081Z",
     "start_time": "2023-11-29T19:00:08.937038Z"
    }
   },
   "outputs": [
    {
     "name": "stdout",
     "output_type": "stream",
     "text": [
      "[2 3]\n"
     ]
    }
   ],
   "source": [
    "# remove the element at position 0\n",
    "arr4 = np.delete(arr, 0)    \n",
    "print(arr4)"
   ]
  },
  {
   "cell_type": "code",
   "execution_count": 77,
   "id": "d6d75d0d",
   "metadata": {
    "ExecuteTime": {
     "end_time": "2023-11-29T19:00:09.941587Z",
     "start_time": "2023-11-29T19:00:09.937593Z"
    }
   },
   "outputs": [
    {
     "data": {
      "text/plain": [
       "array([1, 2, 3])"
      ]
     },
     "execution_count": 77,
     "metadata": {},
     "output_type": "execute_result"
    }
   ],
   "source": [
    "arr"
   ]
  },
  {
   "cell_type": "code",
   "execution_count": 78,
   "id": "16e7c145",
   "metadata": {
    "ExecuteTime": {
     "end_time": "2023-11-29T19:00:10.828928Z",
     "start_time": "2023-11-29T19:00:10.824467Z"
    }
   },
   "outputs": [
    {
     "name": "stdout",
     "output_type": "stream",
     "text": [
      "[2]\n"
     ]
    }
   ],
   "source": [
    "# remove the element at multiple positions\n",
    "arr4 = np.delete(arr, [0,2])    \n",
    "print(arr4)"
   ]
  },
  {
   "cell_type": "markdown",
   "id": "c7e11344",
   "metadata": {},
   "source": [
    "### copy an array"
   ]
  },
  {
   "cell_type": "code",
   "execution_count": 79,
   "id": "15ad88ee",
   "metadata": {
    "ExecuteTime": {
     "end_time": "2023-11-29T19:00:12.251709Z",
     "start_time": "2023-11-29T19:00:12.247994Z"
    }
   },
   "outputs": [],
   "source": [
    "arr = np.array([1,2,3])\n",
    "arrx = arr"
   ]
  },
  {
   "cell_type": "code",
   "execution_count": 80,
   "id": "95a8475d",
   "metadata": {
    "ExecuteTime": {
     "end_time": "2023-11-29T19:00:13.080614Z",
     "start_time": "2023-11-29T19:00:13.076208Z"
    }
   },
   "outputs": [
    {
     "data": {
      "text/plain": [
       "array([1, 2, 3])"
      ]
     },
     "execution_count": 80,
     "metadata": {},
     "output_type": "execute_result"
    }
   ],
   "source": [
    "arrx"
   ]
  },
  {
   "cell_type": "code",
   "execution_count": 81,
   "id": "2d50e97d",
   "metadata": {
    "ExecuteTime": {
     "end_time": "2023-11-29T19:00:13.683677Z",
     "start_time": "2023-11-29T19:00:13.680288Z"
    }
   },
   "outputs": [],
   "source": [
    "arrx[0] = 7"
   ]
  },
  {
   "cell_type": "code",
   "execution_count": 82,
   "id": "8dc46922",
   "metadata": {
    "ExecuteTime": {
     "end_time": "2023-11-29T19:00:14.340660Z",
     "start_time": "2023-11-29T19:00:14.335708Z"
    }
   },
   "outputs": [
    {
     "data": {
      "text/plain": [
       "array([7, 2, 3])"
      ]
     },
     "execution_count": 82,
     "metadata": {},
     "output_type": "execute_result"
    }
   ],
   "source": [
    "arrx"
   ]
  },
  {
   "cell_type": "code",
   "execution_count": 83,
   "id": "e1b41aa2",
   "metadata": {
    "ExecuteTime": {
     "end_time": "2023-11-29T19:00:15.333599Z",
     "start_time": "2023-11-29T19:00:15.328827Z"
    }
   },
   "outputs": [
    {
     "data": {
      "text/plain": [
       "array([7, 2, 3])"
      ]
     },
     "execution_count": 83,
     "metadata": {},
     "output_type": "execute_result"
    }
   ],
   "source": [
    "arr"
   ]
  },
  {
   "cell_type": "code",
   "execution_count": 84,
   "id": "5882b8a8",
   "metadata": {
    "ExecuteTime": {
     "end_time": "2023-11-29T19:00:15.960845Z",
     "start_time": "2023-11-29T19:00:15.956714Z"
    }
   },
   "outputs": [],
   "source": [
    "# the following methods are all deep copy\n",
    "arr1 = np.copy(arr)\n",
    "# or \n",
    "a = arr.copy()\n",
    "# or \n",
    "arr1 = np.array(arr, copy=True)"
   ]
  },
  {
   "cell_type": "markdown",
   "id": "5c174232",
   "metadata": {},
   "source": [
    "### select the unique elements from an array"
   ]
  },
  {
   "cell_type": "code",
   "execution_count": 85,
   "id": "2c4dafcf",
   "metadata": {
    "ExecuteTime": {
     "end_time": "2023-11-29T19:00:17.152628Z",
     "start_time": "2023-11-29T19:00:17.147886Z"
    }
   },
   "outputs": [
    {
     "name": "stdout",
     "output_type": "stream",
     "text": [
      "[1 2 3 4 5 6 7]\n"
     ]
    }
   ],
   "source": [
    "arr = np.array([7,1,1,2,2,3,3,4,5,6])\n",
    "print(np.unique(arr))"
   ]
  },
  {
   "cell_type": "code",
   "execution_count": 86,
   "id": "74770713",
   "metadata": {
    "ExecuteTime": {
     "end_time": "2023-11-29T19:00:18.203406Z",
     "start_time": "2023-11-29T19:00:18.196159Z"
    }
   },
   "outputs": [
    {
     "name": "stdout",
     "output_type": "stream",
     "text": [
      "[1 2 3 4 5 6]\n",
      "[2 2 2 1 1 1]\n"
     ]
    },
    {
     "data": {
      "text/plain": [
       "int"
      ]
     },
     "execution_count": 86,
     "metadata": {},
     "output_type": "execute_result"
    }
   ],
   "source": [
    "# return the number of times each unique item appears\n",
    "arr = np.array([1,1,2,2,3,3,4,5,6])\n",
    "uniques, counts = np.unique(arr, return_counts=True)\n",
    "\n",
    "#print(type(uniques))\n",
    "print(uniques)\n",
    "#print(type(counts))\n",
    "print(counts)\n",
    "\n",
    "x = int(counts[0])\n",
    "type(x)"
   ]
  },
  {
   "cell_type": "markdown",
   "id": "bd62d2c0",
   "metadata": {},
   "source": [
    "### compute the intersection & union of two arrays"
   ]
  },
  {
   "cell_type": "code",
   "execution_count": 87,
   "id": "df8a5db3",
   "metadata": {
    "ExecuteTime": {
     "end_time": "2023-11-29T19:00:19.488317Z",
     "start_time": "2023-11-29T19:00:19.484475Z"
    }
   },
   "outputs": [],
   "source": [
    "arr1 = np.array([1,2,3,4,5])\n",
    "arr2 = np.array([3,4,5,6,7])"
   ]
  },
  {
   "cell_type": "code",
   "execution_count": 110,
   "id": "e7b59e7a",
   "metadata": {
    "ExecuteTime": {
     "end_time": "2023-11-29T17:57:53.487305Z",
     "start_time": "2023-11-29T17:57:53.480297Z"
    }
   },
   "outputs": [
    {
     "name": "stdout",
     "output_type": "stream",
     "text": [
      "[3 4 5]\n",
      "<class 'numpy.ndarray'>\n"
     ]
    }
   ],
   "source": [
    "# intersection\n",
    "print(np.intersect1d(arr1, arr2))\n",
    "print(type(np.intersect1d(arr1, arr2)))"
   ]
  },
  {
   "cell_type": "code",
   "execution_count": 111,
   "id": "772dfca5",
   "metadata": {
    "ExecuteTime": {
     "end_time": "2023-11-29T17:57:59.988587Z",
     "start_time": "2023-11-29T17:57:59.984164Z"
    }
   },
   "outputs": [
    {
     "name": "stdout",
     "output_type": "stream",
     "text": [
      "[1 2 3 4 5 6 7]\n"
     ]
    }
   ],
   "source": [
    "# union\n",
    "print(np.union1d(arr1, arr2))"
   ]
  },
  {
   "cell_type": "markdown",
   "id": "23d605d3",
   "metadata": {},
   "source": [
    "### matrix multiplication"
   ]
  },
  {
   "cell_type": "code",
   "execution_count": 112,
   "id": "568f73b6",
   "metadata": {
    "ExecuteTime": {
     "end_time": "2023-11-29T18:02:38.631395Z",
     "start_time": "2023-11-29T18:02:38.627508Z"
    }
   },
   "outputs": [],
   "source": [
    "arr1 = np.random.rand(5,5)\n",
    "arr2 = np.random.rand(5,5)"
   ]
  },
  {
   "cell_type": "code",
   "execution_count": 113,
   "id": "0e908434",
   "metadata": {
    "ExecuteTime": {
     "end_time": "2023-11-29T18:02:44.578574Z",
     "start_time": "2023-11-29T18:02:44.569338Z"
    }
   },
   "outputs": [
    {
     "name": "stdout",
     "output_type": "stream",
     "text": [
      "[[0.95057457 0.40856616 1.44212067 2.40513229 1.28615131]\n",
      " [0.49533675 0.26168434 0.70680314 1.04659659 0.65428328]\n",
      " [0.83005333 0.6187268  1.06830471 1.24234934 0.92233042]\n",
      " [1.00761048 0.68858699 1.36286153 1.20077629 0.72945073]\n",
      " [0.94683847 0.58248303 1.38169162 1.25852082 0.70268079]]\n",
      "\n",
      "[[0.95057457 0.40856616 1.44212067 2.40513229 1.28615131]\n",
      " [0.49533675 0.26168434 0.70680314 1.04659659 0.65428328]\n",
      " [0.83005333 0.6187268  1.06830471 1.24234934 0.92233042]\n",
      " [1.00761048 0.68858699 1.36286153 1.20077629 0.72945073]\n",
      " [0.94683847 0.58248303 1.38169162 1.25852082 0.70268079]]\n",
      "\n",
      "[[0.95057457 0.40856616 1.44212067 2.40513229 1.28615131]\n",
      " [0.49533675 0.26168434 0.70680314 1.04659659 0.65428328]\n",
      " [0.83005333 0.6187268  1.06830471 1.24234934 0.92233042]\n",
      " [1.00761048 0.68858699 1.36286153 1.20077629 0.72945073]\n",
      " [0.94683847 0.58248303 1.38169162 1.25852082 0.70268079]]\n"
     ]
    }
   ],
   "source": [
    "print(arr1.dot(arr2))\n",
    "# or\n",
    "print()\n",
    "print(np.dot(arr1, arr2))\n",
    "# or\n",
    "print()\n",
    "print(arr1 @ arr2)"
   ]
  },
  {
   "cell_type": "markdown",
   "id": "fa008cc1",
   "metadata": {},
   "source": [
    "### QR factorization "
   ]
  },
  {
   "cell_type": "code",
   "execution_count": 114,
   "id": "64c72371",
   "metadata": {
    "ExecuteTime": {
     "end_time": "2023-11-29T18:02:55.628668Z",
     "start_time": "2023-11-29T18:02:55.588536Z"
    }
   },
   "outputs": [
    {
     "name": "stdout",
     "output_type": "stream",
     "text": [
      "[[-0.09622843 -0.89025753  0.38954626 -0.21103773 -0.04357079]\n",
      " [-0.22230932 -0.32171075 -0.89892325 -0.18880203 -0.05806507]\n",
      " [-0.29822747 -0.03619589  0.03109339  0.51208206 -0.80408669]\n",
      " [-0.82726399  0.28010025  0.19665835 -0.44516068  0.01831935]\n",
      " [-0.40989427 -0.15549096 -0.02343943  0.67780588  0.5897788 ]]\n",
      "[[-1.18357002 -1.17301661 -1.1617491  -0.73561589 -0.54956419]\n",
      " [ 0.         -0.69734011 -0.2097282  -0.22361172 -0.83005133]\n",
      " [ 0.          0.          0.35506797  0.22551206 -0.17120902]\n",
      " [ 0.          0.          0.          0.1455672  -0.11438042]\n",
      " [ 0.          0.          0.          0.         -0.05080715]]\n"
     ]
    }
   ],
   "source": [
    "arr = np.random.rand(5,5)\n",
    "\n",
    "q, r = np.linalg.qr(arr)\n",
    "print(q)\n",
    "print(r)"
   ]
  },
  {
   "cell_type": "markdown",
   "id": "191f9fbb",
   "metadata": {},
   "source": [
    "### singular value decomposition (SVD)"
   ]
  },
  {
   "cell_type": "code",
   "execution_count": 115,
   "id": "4959833c",
   "metadata": {
    "ExecuteTime": {
     "end_time": "2023-11-29T18:03:37.648659Z",
     "start_time": "2023-11-29T18:03:37.629937Z"
    }
   },
   "outputs": [
    {
     "name": "stdout",
     "output_type": "stream",
     "text": [
      "[[-0.28521226  0.49242084 -0.11388864  0.50707814 -0.63724156]\n",
      " [-0.37424789  0.70912588  0.28542941 -0.3805851   0.3616131 ]\n",
      " [-0.51106128 -0.31721935  0.420393    0.57318299  0.3645809 ]\n",
      " [-0.42084046 -0.35887229  0.37556595 -0.49797427 -0.5523367 ]\n",
      " [-0.58335423 -0.158886   -0.76666771 -0.14666157  0.15863194]]\n",
      "[2.65594755 0.82191855 0.65260336 0.28568907 0.18451305]\n",
      "[[-0.36068989 -0.551207   -0.52802466 -0.42242109 -0.32988487]\n",
      " [-0.24357934  0.54568907 -0.64080842 -0.07485547  0.47608169]\n",
      " [ 0.5518233   0.44836702 -0.16838185 -0.43455712 -0.52656027]\n",
      " [-0.68416616  0.40765615  0.450771   -0.30885832 -0.25912387]\n",
      " [-0.19488359  0.17657227 -0.28108288  0.72919389 -0.56578379]]\n"
     ]
    }
   ],
   "source": [
    "arr = np.random.rand(5,5)\n",
    "\n",
    "u, s, v = np.linalg.svd(arr)\n",
    "print(u)\n",
    "print(s)\n",
    "print(v)"
   ]
  },
  {
   "cell_type": "markdown",
   "id": "4c84e812",
   "metadata": {},
   "source": [
    "### singular value decomposition (SVD)"
   ]
  },
  {
   "cell_type": "code",
   "execution_count": 116,
   "id": "f27400f1",
   "metadata": {
    "ExecuteTime": {
     "end_time": "2023-11-29T18:04:02.509094Z",
     "start_time": "2023-11-29T18:04:02.502097Z"
    }
   },
   "outputs": [
    {
     "name": "stdout",
     "output_type": "stream",
     "text": [
      "[ 2.31686022+0.j         -0.17032014+0.12798729j -0.17032014-0.12798729j\n",
      "  0.43636165+0.j          0.15802984+0.j        ]\n"
     ]
    }
   ],
   "source": [
    "arr = np.random.rand(5,5)\n",
    "print(np.linalg.eigvals(arr))"
   ]
  },
  {
   "cell_type": "markdown",
   "id": "869c2d0c",
   "metadata": {},
   "source": [
    "### eigen value decomposition"
   ]
  },
  {
   "cell_type": "code",
   "execution_count": 117,
   "id": "dcb75092",
   "metadata": {
    "ExecuteTime": {
     "end_time": "2023-11-29T18:04:20.208553Z",
     "start_time": "2023-11-29T18:04:20.200811Z"
    }
   },
   "outputs": [
    {
     "name": "stdout",
     "output_type": "stream",
     "text": [
      "[ 2.47577352+0.j          0.04077632+0.38863468j  0.04077632-0.38863468j\n",
      "  0.43594429+0.j         -0.34408391+0.j        ]\n",
      "[[ 0.44950894+0.j          0.04296794-0.48818043j  0.04296794+0.48818043j\n",
      "  -0.74644634+0.j         -0.15840563+0.j        ]\n",
      " [ 0.2533776 +0.j         -0.68668626+0.j         -0.68668626-0.j\n",
      "  -0.1983513 +0.j          0.65003321+0.j        ]\n",
      " [ 0.59556014+0.j          0.11618178+0.28440424j  0.11618178-0.28440424j\n",
      "  -0.1178561 +0.j         -0.44353153+0.j        ]\n",
      " [ 0.33890281+0.j          0.0957586 +0.0514196j   0.0957586 -0.0514196j\n",
      "   0.56020634+0.j         -0.31796547+0.j        ]\n",
      " [ 0.51399856+0.j          0.36257111+0.2250336j   0.36257111-0.2250336j\n",
      "   0.27523337+0.j          0.50452178+0.j        ]]\n"
     ]
    }
   ],
   "source": [
    "arr = np.random.rand(5,5)\n",
    "\n",
    "w, v = np.linalg.eig(arr)\n",
    "print(w)    # eigen values\n",
    "print(v)    # eigen vectors"
   ]
  },
  {
   "cell_type": "markdown",
   "id": "ac996e7c",
   "metadata": {},
   "source": [
    "### compute the trace & determinant"
   ]
  },
  {
   "cell_type": "code",
   "execution_count": 118,
   "id": "5776c996",
   "metadata": {
    "ExecuteTime": {
     "end_time": "2023-11-29T18:06:28.920138Z",
     "start_time": "2023-11-29T18:06:28.916240Z"
    }
   },
   "outputs": [
    {
     "name": "stdout",
     "output_type": "stream",
     "text": [
      "2.6491865477385\n"
     ]
    }
   ],
   "source": [
    "# notice this is not a function in linalg!!!\n",
    "print(np.trace(arr))    "
   ]
  },
  {
   "cell_type": "code",
   "execution_count": 119,
   "id": "8b54506d",
   "metadata": {
    "ExecuteTime": {
     "end_time": "2023-11-29T18:06:35.367561Z",
     "start_time": "2023-11-29T18:06:35.357529Z"
    }
   },
   "outputs": [
    {
     "name": "stdout",
     "output_type": "stream",
     "text": [
      "-0.05670798976932483\n"
     ]
    }
   ],
   "source": [
    "print(np.linalg.det(arr))"
   ]
  },
  {
   "cell_type": "markdown",
   "id": "bd8442b7",
   "metadata": {},
   "source": [
    "### calculate the inverse/psedo-inverse of a matrix"
   ]
  },
  {
   "cell_type": "code",
   "execution_count": 120,
   "id": "fb6852ab",
   "metadata": {
    "ExecuteTime": {
     "end_time": "2023-11-29T18:06:51.801958Z",
     "start_time": "2023-11-29T18:06:51.799110Z"
    }
   },
   "outputs": [],
   "source": [
    "arr = np.random.rand(5,5)"
   ]
  },
  {
   "cell_type": "code",
   "execution_count": 121,
   "id": "a62b92d1",
   "metadata": {
    "ExecuteTime": {
     "end_time": "2023-11-29T18:06:57.478393Z",
     "start_time": "2023-11-29T18:06:57.473157Z"
    }
   },
   "outputs": [
    {
     "name": "stdout",
     "output_type": "stream",
     "text": [
      "[[-29.88815725 -21.35244617  21.21393916   8.90443286  21.17341987]\n",
      " [ -1.09588936  -0.43614301   0.66801176   1.83856832  -0.14769201]\n",
      " [  1.70282007   0.53451669   0.0647178   -1.22701333  -0.55787687]\n",
      " [ -8.60413359  -3.34629845   6.34372866   3.0524389    3.39874278]\n",
      " [ 29.96453811  19.61494736 -22.49306021  -9.61254243 -17.70969393]]\n"
     ]
    }
   ],
   "source": [
    "# compute the inverse of a matrix\n",
    "print(np.linalg.inv(arr))"
   ]
  },
  {
   "cell_type": "code",
   "execution_count": 122,
   "id": "6b62edca",
   "metadata": {
    "ExecuteTime": {
     "end_time": "2023-11-29T18:07:03.917867Z",
     "start_time": "2023-11-29T18:07:03.906348Z"
    }
   },
   "outputs": [
    {
     "name": "stdout",
     "output_type": "stream",
     "text": [
      "[[-29.88815725 -21.35244617  21.21393916   8.90443286  21.17341987]\n",
      " [ -1.09588936  -0.43614301   0.66801176   1.83856832  -0.14769201]\n",
      " [  1.70282007   0.53451669   0.0647178   -1.22701333  -0.55787687]\n",
      " [ -8.60413359  -3.34629845   6.34372866   3.0524389    3.39874278]\n",
      " [ 29.96453811  19.61494736 -22.49306021  -9.61254243 -17.70969393]]\n"
     ]
    }
   ],
   "source": [
    "# compute the psudo-inverse of a matrix\n",
    "print(np.linalg.pinv(arr))"
   ]
  },
  {
   "cell_type": "code",
   "execution_count": null,
   "id": "35a8464b",
   "metadata": {},
   "outputs": [],
   "source": []
  },
  {
   "cell_type": "code",
   "execution_count": null,
   "id": "9a4aac7a",
   "metadata": {},
   "outputs": [],
   "source": []
  },
  {
   "cell_type": "code",
   "execution_count": null,
   "id": "dc4ed988",
   "metadata": {},
   "outputs": [],
   "source": []
  }
 ],
 "metadata": {
  "kernelspec": {
   "display_name": "Python 3 (ipykernel)",
   "language": "python",
   "name": "python3"
  },
  "language_info": {
   "codemirror_mode": {
    "name": "ipython",
    "version": 3
   },
   "file_extension": ".py",
   "mimetype": "text/x-python",
   "name": "python",
   "nbconvert_exporter": "python",
   "pygments_lexer": "ipython3",
   "version": "3.11.5"
  }
 },
 "nbformat": 4,
 "nbformat_minor": 5
}
