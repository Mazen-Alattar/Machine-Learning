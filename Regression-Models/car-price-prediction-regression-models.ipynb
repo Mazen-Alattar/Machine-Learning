{
 "cells": [
  {
   "cell_type": "markdown",
   "id": "29f19b66",
   "metadata": {
    "papermill": {
     "duration": 0.008755,
     "end_time": "2024-01-22T19:03:49.954219",
     "exception": false,
     "start_time": "2024-01-22T19:03:49.945464",
     "status": "completed"
    },
    "tags": []
   },
   "source": [
    "### Import Needed Models"
   ]
  },
  {
   "cell_type": "code",
   "execution_count": 1,
   "id": "9b6157e6",
   "metadata": {
    "_cell_guid": "b1076dfc-b9ad-4769-8c92-a6c4dae69d19",
    "_uuid": "8f2839f25d086af736a60e9eeb907d3b93b6e0e5",
    "execution": {
     "iopub.execute_input": "2024-01-22T19:03:49.974665Z",
     "iopub.status.busy": "2024-01-22T19:03:49.973967Z",
     "iopub.status.idle": "2024-01-22T19:03:52.447715Z",
     "shell.execute_reply": "2024-01-22T19:03:52.446187Z"
    },
    "papermill": {
     "duration": 2.48826,
     "end_time": "2024-01-22T19:03:52.450823",
     "exception": false,
     "start_time": "2024-01-22T19:03:49.962563",
     "status": "completed"
    },
    "tags": []
   },
   "outputs": [],
   "source": [
    "import pandas as pd\n",
    "import numpy as np\n",
    "import matplotlib.pyplot as plt\n",
    "from sklearn.preprocessing import MinMaxScaler\n",
    "from sklearn.linear_model import LinearRegression, Lasso,Ridge\n",
    "from sklearn.model_selection import train_test_split\n",
    "from sklearn.metrics import mean_squared_error , r2_score\n"
   ]
  },
  {
   "cell_type": "markdown",
   "id": "a7abba8b",
   "metadata": {
    "papermill": {
     "duration": 0.011434,
     "end_time": "2024-01-22T19:03:52.473944",
     "exception": false,
     "start_time": "2024-01-22T19:03:52.462510",
     "status": "completed"
    },
    "tags": []
   },
   "source": [
    "### EDA"
   ]
  },
  {
   "cell_type": "code",
   "execution_count": 2,
   "id": "1142a3b6",
   "metadata": {
    "execution": {
     "iopub.execute_input": "2024-01-22T19:03:52.493420Z",
     "iopub.status.busy": "2024-01-22T19:03:52.491887Z",
     "iopub.status.idle": "2024-01-22T19:03:52.658814Z",
     "shell.execute_reply": "2024-01-22T19:03:52.657864Z"
    },
    "papermill": {
     "duration": 0.178949,
     "end_time": "2024-01-22T19:03:52.661271",
     "exception": false,
     "start_time": "2024-01-22T19:03:52.482322",
     "status": "completed"
    },
    "tags": []
   },
   "outputs": [
    {
     "data": {
      "text/html": [
       "<div>\n",
       "<style scoped>\n",
       "    .dataframe tbody tr th:only-of-type {\n",
       "        vertical-align: middle;\n",
       "    }\n",
       "\n",
       "    .dataframe tbody tr th {\n",
       "        vertical-align: top;\n",
       "    }\n",
       "\n",
       "    .dataframe thead th {\n",
       "        text-align: right;\n",
       "    }\n",
       "</style>\n",
       "<table border=\"1\" class=\"dataframe\">\n",
       "  <thead>\n",
       "    <tr style=\"text-align: right;\">\n",
       "      <th></th>\n",
       "      <th>customer name</th>\n",
       "      <th>customer e-mail</th>\n",
       "      <th>country</th>\n",
       "      <th>gender</th>\n",
       "      <th>age</th>\n",
       "      <th>annual Salary</th>\n",
       "      <th>credit card debt</th>\n",
       "      <th>net worth</th>\n",
       "      <th>car purchase amount</th>\n",
       "    </tr>\n",
       "  </thead>\n",
       "  <tbody>\n",
       "    <tr>\n",
       "      <th>0</th>\n",
       "      <td>Martina Avila</td>\n",
       "      <td>cubilia.Curae.Phasellus@quisaccumsanconvallis.edu</td>\n",
       "      <td>Bulgaria</td>\n",
       "      <td>0</td>\n",
       "      <td>41.851720</td>\n",
       "      <td>62812.09301</td>\n",
       "      <td>11609.380910</td>\n",
       "      <td>238961.2505</td>\n",
       "      <td>35321.45877</td>\n",
       "    </tr>\n",
       "    <tr>\n",
       "      <th>1</th>\n",
       "      <td>Harlan Barnes</td>\n",
       "      <td>eu.dolor@diam.co.uk</td>\n",
       "      <td>Belize</td>\n",
       "      <td>0</td>\n",
       "      <td>40.870623</td>\n",
       "      <td>66646.89292</td>\n",
       "      <td>9572.957136</td>\n",
       "      <td>530973.9078</td>\n",
       "      <td>45115.52566</td>\n",
       "    </tr>\n",
       "    <tr>\n",
       "      <th>2</th>\n",
       "      <td>Naomi Rodriquez</td>\n",
       "      <td>vulputate.mauris.sagittis@ametconsectetueradip...</td>\n",
       "      <td>Algeria</td>\n",
       "      <td>1</td>\n",
       "      <td>43.152897</td>\n",
       "      <td>53798.55112</td>\n",
       "      <td>11160.355060</td>\n",
       "      <td>638467.1773</td>\n",
       "      <td>42925.70921</td>\n",
       "    </tr>\n",
       "    <tr>\n",
       "      <th>3</th>\n",
       "      <td>Jade Cunningham</td>\n",
       "      <td>malesuada@dignissim.com</td>\n",
       "      <td>Cook Islands</td>\n",
       "      <td>1</td>\n",
       "      <td>58.271369</td>\n",
       "      <td>79370.03798</td>\n",
       "      <td>14426.164850</td>\n",
       "      <td>548599.0524</td>\n",
       "      <td>67422.36313</td>\n",
       "    </tr>\n",
       "    <tr>\n",
       "      <th>4</th>\n",
       "      <td>Cedric Leach</td>\n",
       "      <td>felis.ullamcorper.viverra@egetmollislectus.net</td>\n",
       "      <td>Brazil</td>\n",
       "      <td>1</td>\n",
       "      <td>57.313749</td>\n",
       "      <td>59729.15130</td>\n",
       "      <td>5358.712177</td>\n",
       "      <td>560304.0671</td>\n",
       "      <td>55915.46248</td>\n",
       "    </tr>\n",
       "    <tr>\n",
       "      <th>...</th>\n",
       "      <td>...</td>\n",
       "      <td>...</td>\n",
       "      <td>...</td>\n",
       "      <td>...</td>\n",
       "      <td>...</td>\n",
       "      <td>...</td>\n",
       "      <td>...</td>\n",
       "      <td>...</td>\n",
       "      <td>...</td>\n",
       "    </tr>\n",
       "    <tr>\n",
       "      <th>495</th>\n",
       "      <td>Walter</td>\n",
       "      <td>ligula@Cumsociis.ca</td>\n",
       "      <td>Nepal</td>\n",
       "      <td>0</td>\n",
       "      <td>41.462515</td>\n",
       "      <td>71942.40291</td>\n",
       "      <td>6995.902524</td>\n",
       "      <td>541670.1016</td>\n",
       "      <td>48901.44342</td>\n",
       "    </tr>\n",
       "    <tr>\n",
       "      <th>496</th>\n",
       "      <td>Vanna</td>\n",
       "      <td>Cum.sociis.natoque@Sedmolestie.edu</td>\n",
       "      <td>Zimbabwe</td>\n",
       "      <td>1</td>\n",
       "      <td>37.642000</td>\n",
       "      <td>56039.49793</td>\n",
       "      <td>12301.456790</td>\n",
       "      <td>360419.0988</td>\n",
       "      <td>31491.41457</td>\n",
       "    </tr>\n",
       "    <tr>\n",
       "      <th>497</th>\n",
       "      <td>Pearl</td>\n",
       "      <td>penatibus.et@massanonante.com</td>\n",
       "      <td>Philippines</td>\n",
       "      <td>1</td>\n",
       "      <td>53.943497</td>\n",
       "      <td>68888.77805</td>\n",
       "      <td>10611.606860</td>\n",
       "      <td>764531.3203</td>\n",
       "      <td>64147.28888</td>\n",
       "    </tr>\n",
       "    <tr>\n",
       "      <th>498</th>\n",
       "      <td>Nell</td>\n",
       "      <td>Quisque.varius@arcuVivamussit.net</td>\n",
       "      <td>Botswana</td>\n",
       "      <td>1</td>\n",
       "      <td>59.160509</td>\n",
       "      <td>49811.99062</td>\n",
       "      <td>14013.034510</td>\n",
       "      <td>337826.6382</td>\n",
       "      <td>45442.15353</td>\n",
       "    </tr>\n",
       "    <tr>\n",
       "      <th>499</th>\n",
       "      <td>Marla</td>\n",
       "      <td>Camaron.marla@hotmail.com</td>\n",
       "      <td>marlal</td>\n",
       "      <td>1</td>\n",
       "      <td>46.731152</td>\n",
       "      <td>61370.67766</td>\n",
       "      <td>9391.341628</td>\n",
       "      <td>462946.4924</td>\n",
       "      <td>45107.22566</td>\n",
       "    </tr>\n",
       "  </tbody>\n",
       "</table>\n",
       "<p>500 rows × 9 columns</p>\n",
       "</div>"
      ],
      "text/plain": [
       "       customer name                                    customer e-mail  \\\n",
       "0      Martina Avila  cubilia.Curae.Phasellus@quisaccumsanconvallis.edu   \n",
       "1      Harlan Barnes                                eu.dolor@diam.co.uk   \n",
       "2    Naomi Rodriquez  vulputate.mauris.sagittis@ametconsectetueradip...   \n",
       "3    Jade Cunningham                            malesuada@dignissim.com   \n",
       "4       Cedric Leach     felis.ullamcorper.viverra@egetmollislectus.net   \n",
       "..               ...                                                ...   \n",
       "495           Walter                                ligula@Cumsociis.ca   \n",
       "496            Vanna                 Cum.sociis.natoque@Sedmolestie.edu   \n",
       "497            Pearl                      penatibus.et@massanonante.com   \n",
       "498             Nell                  Quisque.varius@arcuVivamussit.net   \n",
       "499            Marla                          Camaron.marla@hotmail.com   \n",
       "\n",
       "          country  gender        age  annual Salary  credit card debt  \\\n",
       "0        Bulgaria       0  41.851720    62812.09301      11609.380910   \n",
       "1          Belize       0  40.870623    66646.89292       9572.957136   \n",
       "2         Algeria       1  43.152897    53798.55112      11160.355060   \n",
       "3    Cook Islands       1  58.271369    79370.03798      14426.164850   \n",
       "4          Brazil       1  57.313749    59729.15130       5358.712177   \n",
       "..            ...     ...        ...            ...               ...   \n",
       "495         Nepal       0  41.462515    71942.40291       6995.902524   \n",
       "496      Zimbabwe       1  37.642000    56039.49793      12301.456790   \n",
       "497   Philippines       1  53.943497    68888.77805      10611.606860   \n",
       "498      Botswana       1  59.160509    49811.99062      14013.034510   \n",
       "499        marlal       1  46.731152    61370.67766       9391.341628   \n",
       "\n",
       "       net worth  car purchase amount  \n",
       "0    238961.2505          35321.45877  \n",
       "1    530973.9078          45115.52566  \n",
       "2    638467.1773          42925.70921  \n",
       "3    548599.0524          67422.36313  \n",
       "4    560304.0671          55915.46248  \n",
       "..           ...                  ...  \n",
       "495  541670.1016          48901.44342  \n",
       "496  360419.0988          31491.41457  \n",
       "497  764531.3203          64147.28888  \n",
       "498  337826.6382          45442.15353  \n",
       "499  462946.4924          45107.22566  \n",
       "\n",
       "[500 rows x 9 columns]"
      ]
     },
     "execution_count": 2,
     "metadata": {},
     "output_type": "execute_result"
    }
   ],
   "source": [
    "df=pd.read_csv('/kaggle/input/ann-car-sales-price-prediction/car_purchasing.csv',encoding='ISO-8859-1')\n",
    "df"
   ]
  },
  {
   "cell_type": "code",
   "execution_count": 3,
   "id": "555bb200",
   "metadata": {
    "execution": {
     "iopub.execute_input": "2024-01-22T19:03:52.681406Z",
     "iopub.status.busy": "2024-01-22T19:03:52.680579Z",
     "iopub.status.idle": "2024-01-22T19:03:52.710148Z",
     "shell.execute_reply": "2024-01-22T19:03:52.709156Z"
    },
    "papermill": {
     "duration": 0.042967,
     "end_time": "2024-01-22T19:03:52.713147",
     "exception": false,
     "start_time": "2024-01-22T19:03:52.670180",
     "status": "completed"
    },
    "tags": []
   },
   "outputs": [
    {
     "name": "stdout",
     "output_type": "stream",
     "text": [
      "<class 'pandas.core.frame.DataFrame'>\n",
      "RangeIndex: 500 entries, 0 to 499\n",
      "Data columns (total 9 columns):\n",
      " #   Column               Non-Null Count  Dtype  \n",
      "---  ------               --------------  -----  \n",
      " 0   customer name        500 non-null    object \n",
      " 1   customer e-mail      500 non-null    object \n",
      " 2   country              500 non-null    object \n",
      " 3   gender               500 non-null    int64  \n",
      " 4   age                  500 non-null    float64\n",
      " 5   annual Salary        500 non-null    float64\n",
      " 6   credit card debt     500 non-null    float64\n",
      " 7   net worth            500 non-null    float64\n",
      " 8   car purchase amount  500 non-null    float64\n",
      "dtypes: float64(5), int64(1), object(3)\n",
      "memory usage: 35.3+ KB\n"
     ]
    }
   ],
   "source": [
    "df.info()"
   ]
  },
  {
   "cell_type": "code",
   "execution_count": 4,
   "id": "1a855f2c",
   "metadata": {
    "execution": {
     "iopub.execute_input": "2024-01-22T19:03:52.734003Z",
     "iopub.status.busy": "2024-01-22T19:03:52.733515Z",
     "iopub.status.idle": "2024-01-22T19:03:52.764962Z",
     "shell.execute_reply": "2024-01-22T19:03:52.763791Z"
    },
    "papermill": {
     "duration": 0.045219,
     "end_time": "2024-01-22T19:03:52.767434",
     "exception": false,
     "start_time": "2024-01-22T19:03:52.722215",
     "status": "completed"
    },
    "tags": []
   },
   "outputs": [
    {
     "data": {
      "text/html": [
       "<div>\n",
       "<style scoped>\n",
       "    .dataframe tbody tr th:only-of-type {\n",
       "        vertical-align: middle;\n",
       "    }\n",
       "\n",
       "    .dataframe tbody tr th {\n",
       "        vertical-align: top;\n",
       "    }\n",
       "\n",
       "    .dataframe thead th {\n",
       "        text-align: right;\n",
       "    }\n",
       "</style>\n",
       "<table border=\"1\" class=\"dataframe\">\n",
       "  <thead>\n",
       "    <tr style=\"text-align: right;\">\n",
       "      <th></th>\n",
       "      <th>gender</th>\n",
       "      <th>age</th>\n",
       "      <th>annual Salary</th>\n",
       "      <th>credit card debt</th>\n",
       "      <th>net worth</th>\n",
       "      <th>car purchase amount</th>\n",
       "    </tr>\n",
       "  </thead>\n",
       "  <tbody>\n",
       "    <tr>\n",
       "      <th>count</th>\n",
       "      <td>500.000000</td>\n",
       "      <td>500.000000</td>\n",
       "      <td>500.000000</td>\n",
       "      <td>500.000000</td>\n",
       "      <td>500.000000</td>\n",
       "      <td>500.000000</td>\n",
       "    </tr>\n",
       "    <tr>\n",
       "      <th>mean</th>\n",
       "      <td>0.506000</td>\n",
       "      <td>46.241674</td>\n",
       "      <td>62127.239608</td>\n",
       "      <td>9607.645049</td>\n",
       "      <td>431475.713625</td>\n",
       "      <td>44209.799218</td>\n",
       "    </tr>\n",
       "    <tr>\n",
       "      <th>std</th>\n",
       "      <td>0.500465</td>\n",
       "      <td>7.978862</td>\n",
       "      <td>11703.378228</td>\n",
       "      <td>3489.187973</td>\n",
       "      <td>173536.756340</td>\n",
       "      <td>10773.178744</td>\n",
       "    </tr>\n",
       "    <tr>\n",
       "      <th>min</th>\n",
       "      <td>0.000000</td>\n",
       "      <td>20.000000</td>\n",
       "      <td>20000.000000</td>\n",
       "      <td>100.000000</td>\n",
       "      <td>20000.000000</td>\n",
       "      <td>9000.000000</td>\n",
       "    </tr>\n",
       "    <tr>\n",
       "      <th>25%</th>\n",
       "      <td>0.000000</td>\n",
       "      <td>40.949969</td>\n",
       "      <td>54391.977195</td>\n",
       "      <td>7397.515792</td>\n",
       "      <td>299824.195900</td>\n",
       "      <td>37629.896040</td>\n",
       "    </tr>\n",
       "    <tr>\n",
       "      <th>50%</th>\n",
       "      <td>1.000000</td>\n",
       "      <td>46.049901</td>\n",
       "      <td>62915.497035</td>\n",
       "      <td>9655.035568</td>\n",
       "      <td>426750.120650</td>\n",
       "      <td>43997.783390</td>\n",
       "    </tr>\n",
       "    <tr>\n",
       "      <th>75%</th>\n",
       "      <td>1.000000</td>\n",
       "      <td>51.612263</td>\n",
       "      <td>70117.862005</td>\n",
       "      <td>11798.867487</td>\n",
       "      <td>557324.478725</td>\n",
       "      <td>51254.709517</td>\n",
       "    </tr>\n",
       "    <tr>\n",
       "      <th>max</th>\n",
       "      <td>1.000000</td>\n",
       "      <td>70.000000</td>\n",
       "      <td>100000.000000</td>\n",
       "      <td>20000.000000</td>\n",
       "      <td>1000000.000000</td>\n",
       "      <td>80000.000000</td>\n",
       "    </tr>\n",
       "  </tbody>\n",
       "</table>\n",
       "</div>"
      ],
      "text/plain": [
       "           gender         age  annual Salary  credit card debt  \\\n",
       "count  500.000000  500.000000     500.000000        500.000000   \n",
       "mean     0.506000   46.241674   62127.239608       9607.645049   \n",
       "std      0.500465    7.978862   11703.378228       3489.187973   \n",
       "min      0.000000   20.000000   20000.000000        100.000000   \n",
       "25%      0.000000   40.949969   54391.977195       7397.515792   \n",
       "50%      1.000000   46.049901   62915.497035       9655.035568   \n",
       "75%      1.000000   51.612263   70117.862005      11798.867487   \n",
       "max      1.000000   70.000000  100000.000000      20000.000000   \n",
       "\n",
       "            net worth  car purchase amount  \n",
       "count      500.000000           500.000000  \n",
       "mean    431475.713625         44209.799218  \n",
       "std     173536.756340         10773.178744  \n",
       "min      20000.000000          9000.000000  \n",
       "25%     299824.195900         37629.896040  \n",
       "50%     426750.120650         43997.783390  \n",
       "75%     557324.478725         51254.709517  \n",
       "max    1000000.000000         80000.000000  "
      ]
     },
     "execution_count": 4,
     "metadata": {},
     "output_type": "execute_result"
    }
   ],
   "source": [
    "df.describe()"
   ]
  },
  {
   "cell_type": "markdown",
   "id": "a283c86c",
   "metadata": {
    "papermill": {
     "duration": 0.008988,
     "end_time": "2024-01-22T19:03:52.786917",
     "exception": false,
     "start_time": "2024-01-22T19:03:52.777929",
     "status": "completed"
    },
    "tags": []
   },
   "source": [
    "### Data Preprocessing"
   ]
  },
  {
   "cell_type": "markdown",
   "id": "96b677c4",
   "metadata": {
    "papermill": {
     "duration": 0.008829,
     "end_time": "2024-01-22T19:03:52.804990",
     "exception": false,
     "start_time": "2024-01-22T19:03:52.796161",
     "status": "completed"
    },
    "tags": []
   },
   "source": [
    "**drop undeeded columns**"
   ]
  },
  {
   "cell_type": "code",
   "execution_count": 5,
   "id": "9f3a3552",
   "metadata": {
    "execution": {
     "iopub.execute_input": "2024-01-22T19:03:52.826380Z",
     "iopub.status.busy": "2024-01-22T19:03:52.824953Z",
     "iopub.status.idle": "2024-01-22T19:03:52.842231Z",
     "shell.execute_reply": "2024-01-22T19:03:52.840956Z"
    },
    "papermill": {
     "duration": 0.031214,
     "end_time": "2024-01-22T19:03:52.845451",
     "exception": false,
     "start_time": "2024-01-22T19:03:52.814237",
     "status": "completed"
    },
    "tags": []
   },
   "outputs": [
    {
     "data": {
      "text/html": [
       "<div>\n",
       "<style scoped>\n",
       "    .dataframe tbody tr th:only-of-type {\n",
       "        vertical-align: middle;\n",
       "    }\n",
       "\n",
       "    .dataframe tbody tr th {\n",
       "        vertical-align: top;\n",
       "    }\n",
       "\n",
       "    .dataframe thead th {\n",
       "        text-align: right;\n",
       "    }\n",
       "</style>\n",
       "<table border=\"1\" class=\"dataframe\">\n",
       "  <thead>\n",
       "    <tr style=\"text-align: right;\">\n",
       "      <th></th>\n",
       "      <th>age</th>\n",
       "      <th>annual Salary</th>\n",
       "      <th>credit card debt</th>\n",
       "      <th>net worth</th>\n",
       "      <th>car purchase amount</th>\n",
       "    </tr>\n",
       "  </thead>\n",
       "  <tbody>\n",
       "    <tr>\n",
       "      <th>0</th>\n",
       "      <td>41.851720</td>\n",
       "      <td>62812.09301</td>\n",
       "      <td>11609.380910</td>\n",
       "      <td>238961.2505</td>\n",
       "      <td>35321.45877</td>\n",
       "    </tr>\n",
       "    <tr>\n",
       "      <th>1</th>\n",
       "      <td>40.870623</td>\n",
       "      <td>66646.89292</td>\n",
       "      <td>9572.957136</td>\n",
       "      <td>530973.9078</td>\n",
       "      <td>45115.52566</td>\n",
       "    </tr>\n",
       "    <tr>\n",
       "      <th>2</th>\n",
       "      <td>43.152897</td>\n",
       "      <td>53798.55112</td>\n",
       "      <td>11160.355060</td>\n",
       "      <td>638467.1773</td>\n",
       "      <td>42925.70921</td>\n",
       "    </tr>\n",
       "    <tr>\n",
       "      <th>3</th>\n",
       "      <td>58.271369</td>\n",
       "      <td>79370.03798</td>\n",
       "      <td>14426.164850</td>\n",
       "      <td>548599.0524</td>\n",
       "      <td>67422.36313</td>\n",
       "    </tr>\n",
       "    <tr>\n",
       "      <th>4</th>\n",
       "      <td>57.313749</td>\n",
       "      <td>59729.15130</td>\n",
       "      <td>5358.712177</td>\n",
       "      <td>560304.0671</td>\n",
       "      <td>55915.46248</td>\n",
       "    </tr>\n",
       "  </tbody>\n",
       "</table>\n",
       "</div>"
      ],
      "text/plain": [
       "         age  annual Salary  credit card debt    net worth  \\\n",
       "0  41.851720    62812.09301      11609.380910  238961.2505   \n",
       "1  40.870623    66646.89292       9572.957136  530973.9078   \n",
       "2  43.152897    53798.55112      11160.355060  638467.1773   \n",
       "3  58.271369    79370.03798      14426.164850  548599.0524   \n",
       "4  57.313749    59729.15130       5358.712177  560304.0671   \n",
       "\n",
       "   car purchase amount  \n",
       "0          35321.45877  \n",
       "1          45115.52566  \n",
       "2          42925.70921  \n",
       "3          67422.36313  \n",
       "4          55915.46248  "
      ]
     },
     "execution_count": 5,
     "metadata": {},
     "output_type": "execute_result"
    }
   ],
   "source": [
    "df.drop(columns=['gender','customer name','customer e-mail','country'],inplace=True)\n",
    "df.head()"
   ]
  },
  {
   "cell_type": "markdown",
   "id": "f5f74ea3",
   "metadata": {
    "papermill": {
     "duration": 0.008877,
     "end_time": "2024-01-22T19:03:52.865204",
     "exception": false,
     "start_time": "2024-01-22T19:03:52.856327",
     "status": "completed"
    },
    "tags": []
   },
   "source": [
    "**define x,y** "
   ]
  },
  {
   "cell_type": "code",
   "execution_count": 6,
   "id": "cba1a6fc",
   "metadata": {
    "execution": {
     "iopub.execute_input": "2024-01-22T19:03:52.886183Z",
     "iopub.status.busy": "2024-01-22T19:03:52.885224Z",
     "iopub.status.idle": "2024-01-22T19:03:52.901973Z",
     "shell.execute_reply": "2024-01-22T19:03:52.900996Z"
    },
    "papermill": {
     "duration": 0.029958,
     "end_time": "2024-01-22T19:03:52.904405",
     "exception": false,
     "start_time": "2024-01-22T19:03:52.874447",
     "status": "completed"
    },
    "tags": []
   },
   "outputs": [
    {
     "data": {
      "text/html": [
       "<div>\n",
       "<style scoped>\n",
       "    .dataframe tbody tr th:only-of-type {\n",
       "        vertical-align: middle;\n",
       "    }\n",
       "\n",
       "    .dataframe tbody tr th {\n",
       "        vertical-align: top;\n",
       "    }\n",
       "\n",
       "    .dataframe thead th {\n",
       "        text-align: right;\n",
       "    }\n",
       "</style>\n",
       "<table border=\"1\" class=\"dataframe\">\n",
       "  <thead>\n",
       "    <tr style=\"text-align: right;\">\n",
       "      <th></th>\n",
       "      <th>age</th>\n",
       "      <th>annual Salary</th>\n",
       "      <th>credit card debt</th>\n",
       "      <th>net worth</th>\n",
       "    </tr>\n",
       "  </thead>\n",
       "  <tbody>\n",
       "    <tr>\n",
       "      <th>0</th>\n",
       "      <td>41.851720</td>\n",
       "      <td>62812.09301</td>\n",
       "      <td>11609.380910</td>\n",
       "      <td>238961.2505</td>\n",
       "    </tr>\n",
       "    <tr>\n",
       "      <th>1</th>\n",
       "      <td>40.870623</td>\n",
       "      <td>66646.89292</td>\n",
       "      <td>9572.957136</td>\n",
       "      <td>530973.9078</td>\n",
       "    </tr>\n",
       "    <tr>\n",
       "      <th>2</th>\n",
       "      <td>43.152897</td>\n",
       "      <td>53798.55112</td>\n",
       "      <td>11160.355060</td>\n",
       "      <td>638467.1773</td>\n",
       "    </tr>\n",
       "    <tr>\n",
       "      <th>3</th>\n",
       "      <td>58.271369</td>\n",
       "      <td>79370.03798</td>\n",
       "      <td>14426.164850</td>\n",
       "      <td>548599.0524</td>\n",
       "    </tr>\n",
       "    <tr>\n",
       "      <th>4</th>\n",
       "      <td>57.313749</td>\n",
       "      <td>59729.15130</td>\n",
       "      <td>5358.712177</td>\n",
       "      <td>560304.0671</td>\n",
       "    </tr>\n",
       "    <tr>\n",
       "      <th>...</th>\n",
       "      <td>...</td>\n",
       "      <td>...</td>\n",
       "      <td>...</td>\n",
       "      <td>...</td>\n",
       "    </tr>\n",
       "    <tr>\n",
       "      <th>495</th>\n",
       "      <td>41.462515</td>\n",
       "      <td>71942.40291</td>\n",
       "      <td>6995.902524</td>\n",
       "      <td>541670.1016</td>\n",
       "    </tr>\n",
       "    <tr>\n",
       "      <th>496</th>\n",
       "      <td>37.642000</td>\n",
       "      <td>56039.49793</td>\n",
       "      <td>12301.456790</td>\n",
       "      <td>360419.0988</td>\n",
       "    </tr>\n",
       "    <tr>\n",
       "      <th>497</th>\n",
       "      <td>53.943497</td>\n",
       "      <td>68888.77805</td>\n",
       "      <td>10611.606860</td>\n",
       "      <td>764531.3203</td>\n",
       "    </tr>\n",
       "    <tr>\n",
       "      <th>498</th>\n",
       "      <td>59.160509</td>\n",
       "      <td>49811.99062</td>\n",
       "      <td>14013.034510</td>\n",
       "      <td>337826.6382</td>\n",
       "    </tr>\n",
       "    <tr>\n",
       "      <th>499</th>\n",
       "      <td>46.731152</td>\n",
       "      <td>61370.67766</td>\n",
       "      <td>9391.341628</td>\n",
       "      <td>462946.4924</td>\n",
       "    </tr>\n",
       "  </tbody>\n",
       "</table>\n",
       "<p>500 rows × 4 columns</p>\n",
       "</div>"
      ],
      "text/plain": [
       "           age  annual Salary  credit card debt    net worth\n",
       "0    41.851720    62812.09301      11609.380910  238961.2505\n",
       "1    40.870623    66646.89292       9572.957136  530973.9078\n",
       "2    43.152897    53798.55112      11160.355060  638467.1773\n",
       "3    58.271369    79370.03798      14426.164850  548599.0524\n",
       "4    57.313749    59729.15130       5358.712177  560304.0671\n",
       "..         ...            ...               ...          ...\n",
       "495  41.462515    71942.40291       6995.902524  541670.1016\n",
       "496  37.642000    56039.49793      12301.456790  360419.0988\n",
       "497  53.943497    68888.77805      10611.606860  764531.3203\n",
       "498  59.160509    49811.99062      14013.034510  337826.6382\n",
       "499  46.731152    61370.67766       9391.341628  462946.4924\n",
       "\n",
       "[500 rows x 4 columns]"
      ]
     },
     "execution_count": 6,
     "metadata": {},
     "output_type": "execute_result"
    }
   ],
   "source": [
    "x=df.drop(columns='car purchase amount')\n",
    "x"
   ]
  },
  {
   "cell_type": "code",
   "execution_count": 7,
   "id": "c769ebb9",
   "metadata": {
    "execution": {
     "iopub.execute_input": "2024-01-22T19:03:52.926305Z",
     "iopub.status.busy": "2024-01-22T19:03:52.925558Z",
     "iopub.status.idle": "2024-01-22T19:03:52.934574Z",
     "shell.execute_reply": "2024-01-22T19:03:52.933429Z"
    },
    "papermill": {
     "duration": 0.022259,
     "end_time": "2024-01-22T19:03:52.936745",
     "exception": false,
     "start_time": "2024-01-22T19:03:52.914486",
     "status": "completed"
    },
    "tags": []
   },
   "outputs": [
    {
     "data": {
      "text/plain": [
       "0      35321.45877\n",
       "1      45115.52566\n",
       "2      42925.70921\n",
       "3      67422.36313\n",
       "4      55915.46248\n",
       "          ...     \n",
       "495    48901.44342\n",
       "496    31491.41457\n",
       "497    64147.28888\n",
       "498    45442.15353\n",
       "499    45107.22566\n",
       "Name: car purchase amount, Length: 500, dtype: float64"
      ]
     },
     "execution_count": 7,
     "metadata": {},
     "output_type": "execute_result"
    }
   ],
   "source": [
    "y=df['car purchase amount']\n",
    "y"
   ]
  },
  {
   "cell_type": "markdown",
   "id": "c4409f58",
   "metadata": {
    "papermill": {
     "duration": 0.009369,
     "end_time": "2024-01-22T19:03:52.955905",
     "exception": false,
     "start_time": "2024-01-22T19:03:52.946536",
     "status": "completed"
    },
    "tags": []
   },
   "source": [
    "**data scaling**"
   ]
  },
  {
   "cell_type": "code",
   "execution_count": 8,
   "id": "5fa5831f",
   "metadata": {
    "execution": {
     "iopub.execute_input": "2024-01-22T19:03:52.978453Z",
     "iopub.status.busy": "2024-01-22T19:03:52.977655Z",
     "iopub.status.idle": "2024-01-22T19:03:52.985046Z",
     "shell.execute_reply": "2024-01-22T19:03:52.983635Z"
    },
    "papermill": {
     "duration": 0.021331,
     "end_time": "2024-01-22T19:03:52.987520",
     "exception": false,
     "start_time": "2024-01-22T19:03:52.966189",
     "status": "completed"
    },
    "tags": []
   },
   "outputs": [
    {
     "data": {
      "text/plain": [
       "(500,)"
      ]
     },
     "execution_count": 8,
     "metadata": {},
     "output_type": "execute_result"
    }
   ],
   "source": [
    "#we should making y into 2D array to make scaling (y.values.reshape(-1,1))\n",
    "y.shape"
   ]
  },
  {
   "cell_type": "code",
   "execution_count": 9,
   "id": "22d176fc",
   "metadata": {
    "execution": {
     "iopub.execute_input": "2024-01-22T19:03:53.011432Z",
     "iopub.status.busy": "2024-01-22T19:03:53.010456Z",
     "iopub.status.idle": "2024-01-22T19:03:53.022802Z",
     "shell.execute_reply": "2024-01-22T19:03:53.021580Z"
    },
    "papermill": {
     "duration": 0.027933,
     "end_time": "2024-01-22T19:03:53.025513",
     "exception": false,
     "start_time": "2024-01-22T19:03:52.997580",
     "status": "completed"
    },
    "tags": []
   },
   "outputs": [],
   "source": [
    "scaler=MinMaxScaler()\n",
    "x=scaler.fit_transform(x)\n",
    "y=scaler.fit_transform(y.values.reshape(-1,1))"
   ]
  },
  {
   "cell_type": "code",
   "execution_count": 10,
   "id": "c74453a1",
   "metadata": {
    "execution": {
     "iopub.execute_input": "2024-01-22T19:03:53.048144Z",
     "iopub.status.busy": "2024-01-22T19:03:53.047676Z",
     "iopub.status.idle": "2024-01-22T19:03:53.055067Z",
     "shell.execute_reply": "2024-01-22T19:03:53.053866Z"
    },
    "papermill": {
     "duration": 0.021642,
     "end_time": "2024-01-22T19:03:53.057733",
     "exception": false,
     "start_time": "2024-01-22T19:03:53.036091",
     "status": "completed"
    },
    "tags": []
   },
   "outputs": [
    {
     "name": "stdout",
     "output_type": "stream",
     "text": [
      "(400, 4)\n",
      "(100, 4)\n",
      "(400, 1)\n",
      "(100, 1)\n"
     ]
    }
   ],
   "source": [
    "x_train,x_test,y_train,y_test=train_test_split(x,y,test_size=0.2,random_state=0)\n",
    "print(x_train.shape)\n",
    "print(x_test.shape)\n",
    "print(y_train.shape)\n",
    "print(y_test.shape)"
   ]
  },
  {
   "cell_type": "markdown",
   "id": "7e6e790b",
   "metadata": {
    "papermill": {
     "duration": 0.009611,
     "end_time": "2024-01-22T19:03:53.077174",
     "exception": false,
     "start_time": "2024-01-22T19:03:53.067563",
     "status": "completed"
    },
    "tags": []
   },
   "source": [
    "## Linear_Regression_Models"
   ]
  },
  {
   "cell_type": "code",
   "execution_count": 11,
   "id": "1fa67d74",
   "metadata": {
    "execution": {
     "iopub.execute_input": "2024-01-22T19:03:53.100053Z",
     "iopub.status.busy": "2024-01-22T19:03:53.098448Z",
     "iopub.status.idle": "2024-01-22T19:03:53.131887Z",
     "shell.execute_reply": "2024-01-22T19:03:53.130547Z"
    },
    "papermill": {
     "duration": 0.047322,
     "end_time": "2024-01-22T19:03:53.134561",
     "exception": false,
     "start_time": "2024-01-22T19:03:53.087239",
     "status": "completed"
    },
    "tags": []
   },
   "outputs": [
    {
     "data": {
      "text/html": [
       "<style>#sk-container-id-1 {color: black;background-color: white;}#sk-container-id-1 pre{padding: 0;}#sk-container-id-1 div.sk-toggleable {background-color: white;}#sk-container-id-1 label.sk-toggleable__label {cursor: pointer;display: block;width: 100%;margin-bottom: 0;padding: 0.3em;box-sizing: border-box;text-align: center;}#sk-container-id-1 label.sk-toggleable__label-arrow:before {content: \"▸\";float: left;margin-right: 0.25em;color: #696969;}#sk-container-id-1 label.sk-toggleable__label-arrow:hover:before {color: black;}#sk-container-id-1 div.sk-estimator:hover label.sk-toggleable__label-arrow:before {color: black;}#sk-container-id-1 div.sk-toggleable__content {max-height: 0;max-width: 0;overflow: hidden;text-align: left;background-color: #f0f8ff;}#sk-container-id-1 div.sk-toggleable__content pre {margin: 0.2em;color: black;border-radius: 0.25em;background-color: #f0f8ff;}#sk-container-id-1 input.sk-toggleable__control:checked~div.sk-toggleable__content {max-height: 200px;max-width: 100%;overflow: auto;}#sk-container-id-1 input.sk-toggleable__control:checked~label.sk-toggleable__label-arrow:before {content: \"▾\";}#sk-container-id-1 div.sk-estimator input.sk-toggleable__control:checked~label.sk-toggleable__label {background-color: #d4ebff;}#sk-container-id-1 div.sk-label input.sk-toggleable__control:checked~label.sk-toggleable__label {background-color: #d4ebff;}#sk-container-id-1 input.sk-hidden--visually {border: 0;clip: rect(1px 1px 1px 1px);clip: rect(1px, 1px, 1px, 1px);height: 1px;margin: -1px;overflow: hidden;padding: 0;position: absolute;width: 1px;}#sk-container-id-1 div.sk-estimator {font-family: monospace;background-color: #f0f8ff;border: 1px dotted black;border-radius: 0.25em;box-sizing: border-box;margin-bottom: 0.5em;}#sk-container-id-1 div.sk-estimator:hover {background-color: #d4ebff;}#sk-container-id-1 div.sk-parallel-item::after {content: \"\";width: 100%;border-bottom: 1px solid gray;flex-grow: 1;}#sk-container-id-1 div.sk-label:hover label.sk-toggleable__label {background-color: #d4ebff;}#sk-container-id-1 div.sk-serial::before {content: \"\";position: absolute;border-left: 1px solid gray;box-sizing: border-box;top: 0;bottom: 0;left: 50%;z-index: 0;}#sk-container-id-1 div.sk-serial {display: flex;flex-direction: column;align-items: center;background-color: white;padding-right: 0.2em;padding-left: 0.2em;position: relative;}#sk-container-id-1 div.sk-item {position: relative;z-index: 1;}#sk-container-id-1 div.sk-parallel {display: flex;align-items: stretch;justify-content: center;background-color: white;position: relative;}#sk-container-id-1 div.sk-item::before, #sk-container-id-1 div.sk-parallel-item::before {content: \"\";position: absolute;border-left: 1px solid gray;box-sizing: border-box;top: 0;bottom: 0;left: 50%;z-index: -1;}#sk-container-id-1 div.sk-parallel-item {display: flex;flex-direction: column;z-index: 1;position: relative;background-color: white;}#sk-container-id-1 div.sk-parallel-item:first-child::after {align-self: flex-end;width: 50%;}#sk-container-id-1 div.sk-parallel-item:last-child::after {align-self: flex-start;width: 50%;}#sk-container-id-1 div.sk-parallel-item:only-child::after {width: 0;}#sk-container-id-1 div.sk-dashed-wrapped {border: 1px dashed gray;margin: 0 0.4em 0.5em 0.4em;box-sizing: border-box;padding-bottom: 0.4em;background-color: white;}#sk-container-id-1 div.sk-label label {font-family: monospace;font-weight: bold;display: inline-block;line-height: 1.2em;}#sk-container-id-1 div.sk-label-container {text-align: center;}#sk-container-id-1 div.sk-container {/* jupyter's `normalize.less` sets `[hidden] { display: none; }` but bootstrap.min.css set `[hidden] { display: none !important; }` so we also need the `!important` here to be able to override the default hidden behavior on the sphinx rendered scikit-learn.org. See: https://github.com/scikit-learn/scikit-learn/issues/21755 */display: inline-block !important;position: relative;}#sk-container-id-1 div.sk-text-repr-fallback {display: none;}</style><div id=\"sk-container-id-1\" class=\"sk-top-container\"><div class=\"sk-text-repr-fallback\"><pre>LinearRegression()</pre><b>In a Jupyter environment, please rerun this cell to show the HTML representation or trust the notebook. <br />On GitHub, the HTML representation is unable to render, please try loading this page with nbviewer.org.</b></div><div class=\"sk-container\" hidden><div class=\"sk-item\"><div class=\"sk-estimator sk-toggleable\"><input class=\"sk-toggleable__control sk-hidden--visually\" id=\"sk-estimator-id-1\" type=\"checkbox\" checked><label for=\"sk-estimator-id-1\" class=\"sk-toggleable__label sk-toggleable__label-arrow\">LinearRegression</label><div class=\"sk-toggleable__content\"><pre>LinearRegression()</pre></div></div></div></div></div>"
      ],
      "text/plain": [
       "LinearRegression()"
      ]
     },
     "execution_count": 11,
     "metadata": {},
     "output_type": "execute_result"
    }
   ],
   "source": [
    "lr_model=LinearRegression()\n",
    "lr_model.fit(x_train,y_train)"
   ]
  },
  {
   "cell_type": "code",
   "execution_count": 12,
   "id": "9c05bfbf",
   "metadata": {
    "execution": {
     "iopub.execute_input": "2024-01-22T19:03:53.158314Z",
     "iopub.status.busy": "2024-01-22T19:03:53.157841Z",
     "iopub.status.idle": "2024-01-22T19:03:53.166345Z",
     "shell.execute_reply": "2024-01-22T19:03:53.164970Z"
    },
    "papermill": {
     "duration": 0.022435,
     "end_time": "2024-01-22T19:03:53.168523",
     "exception": false,
     "start_time": "2024-01-22T19:03:53.146088",
     "status": "completed"
    },
    "tags": []
   },
   "outputs": [
    {
     "data": {
      "text/plain": [
       "0.9999999816626624"
      ]
     },
     "execution_count": 12,
     "metadata": {},
     "output_type": "execute_result"
    }
   ],
   "source": [
    "lr_model.score(x_train,y_train)"
   ]
  },
  {
   "cell_type": "code",
   "execution_count": 13,
   "id": "6f96e00d",
   "metadata": {
    "execution": {
     "iopub.execute_input": "2024-01-22T19:03:53.191583Z",
     "iopub.status.busy": "2024-01-22T19:03:53.190444Z",
     "iopub.status.idle": "2024-01-22T19:03:53.196702Z",
     "shell.execute_reply": "2024-01-22T19:03:53.195510Z"
    },
    "papermill": {
     "duration": 0.020257,
     "end_time": "2024-01-22T19:03:53.199075",
     "exception": false,
     "start_time": "2024-01-22T19:03:53.178818",
     "status": "completed"
    },
    "tags": []
   },
   "outputs": [],
   "source": [
    "lr_pred=lr_model.predict(x_test)"
   ]
  },
  {
   "cell_type": "markdown",
   "id": "80b26d35",
   "metadata": {
    "papermill": {
     "duration": 0.010669,
     "end_time": "2024-01-22T19:03:53.220910",
     "exception": false,
     "start_time": "2024-01-22T19:03:53.210241",
     "status": "completed"
    },
    "tags": []
   },
   "source": [
    "**calculate Mean square error**"
   ]
  },
  {
   "cell_type": "code",
   "execution_count": 14,
   "id": "7df078e0",
   "metadata": {
    "execution": {
     "iopub.execute_input": "2024-01-22T19:03:53.243524Z",
     "iopub.status.busy": "2024-01-22T19:03:53.243031Z",
     "iopub.status.idle": "2024-01-22T19:03:53.251938Z",
     "shell.execute_reply": "2024-01-22T19:03:53.250644Z"
    },
    "papermill": {
     "duration": 0.023074,
     "end_time": "2024-01-22T19:03:53.254394",
     "exception": false,
     "start_time": "2024-01-22T19:03:53.231320",
     "status": "completed"
    },
    "tags": []
   },
   "outputs": [
    {
     "data": {
      "text/plain": [
       "4.942037654697138e-10"
      ]
     },
     "execution_count": 14,
     "metadata": {},
     "output_type": "execute_result"
    }
   ],
   "source": [
    "lr_mse=mean_squared_error(y_test,lr_pred)\n",
    "lr_mse"
   ]
  },
  {
   "cell_type": "markdown",
   "id": "051f1491",
   "metadata": {
    "papermill": {
     "duration": 0.010698,
     "end_time": "2024-01-22T19:03:53.362068",
     "exception": false,
     "start_time": "2024-01-22T19:03:53.351370",
     "status": "completed"
    },
    "tags": []
   },
   "source": [
    "**calculate R^2**"
   ]
  },
  {
   "cell_type": "code",
   "execution_count": 15,
   "id": "a0c00b54",
   "metadata": {
    "execution": {
     "iopub.execute_input": "2024-01-22T19:03:53.387382Z",
     "iopub.status.busy": "2024-01-22T19:03:53.386881Z",
     "iopub.status.idle": "2024-01-22T19:03:53.395341Z",
     "shell.execute_reply": "2024-01-22T19:03:53.393968Z"
    },
    "papermill": {
     "duration": 0.023874,
     "end_time": "2024-01-22T19:03:53.397759",
     "exception": false,
     "start_time": "2024-01-22T19:03:53.373885",
     "status": "completed"
    },
    "tags": []
   },
   "outputs": [
    {
     "data": {
      "text/plain": [
       "0.9999999793157544"
      ]
     },
     "execution_count": 15,
     "metadata": {},
     "output_type": "execute_result"
    }
   ],
   "source": [
    "lr_r2=r2_score(y_test,lr_pred)\n",
    "lr_r2"
   ]
  },
  {
   "cell_type": "markdown",
   "id": "d1d546c1",
   "metadata": {
    "papermill": {
     "duration": 0.010306,
     "end_time": "2024-01-22T19:03:53.419105",
     "exception": false,
     "start_time": "2024-01-22T19:03:53.408799",
     "status": "completed"
    },
    "tags": []
   },
   "source": [
    "## Lasso"
   ]
  },
  {
   "cell_type": "code",
   "execution_count": 16,
   "id": "0394f07b",
   "metadata": {
    "execution": {
     "iopub.execute_input": "2024-01-22T19:03:53.443787Z",
     "iopub.status.busy": "2024-01-22T19:03:53.443344Z",
     "iopub.status.idle": "2024-01-22T19:03:53.455948Z",
     "shell.execute_reply": "2024-01-22T19:03:53.454618Z"
    },
    "papermill": {
     "duration": 0.027874,
     "end_time": "2024-01-22T19:03:53.458496",
     "exception": false,
     "start_time": "2024-01-22T19:03:53.430622",
     "status": "completed"
    },
    "tags": []
   },
   "outputs": [
    {
     "data": {
      "text/html": [
       "<style>#sk-container-id-2 {color: black;background-color: white;}#sk-container-id-2 pre{padding: 0;}#sk-container-id-2 div.sk-toggleable {background-color: white;}#sk-container-id-2 label.sk-toggleable__label {cursor: pointer;display: block;width: 100%;margin-bottom: 0;padding: 0.3em;box-sizing: border-box;text-align: center;}#sk-container-id-2 label.sk-toggleable__label-arrow:before {content: \"▸\";float: left;margin-right: 0.25em;color: #696969;}#sk-container-id-2 label.sk-toggleable__label-arrow:hover:before {color: black;}#sk-container-id-2 div.sk-estimator:hover label.sk-toggleable__label-arrow:before {color: black;}#sk-container-id-2 div.sk-toggleable__content {max-height: 0;max-width: 0;overflow: hidden;text-align: left;background-color: #f0f8ff;}#sk-container-id-2 div.sk-toggleable__content pre {margin: 0.2em;color: black;border-radius: 0.25em;background-color: #f0f8ff;}#sk-container-id-2 input.sk-toggleable__control:checked~div.sk-toggleable__content {max-height: 200px;max-width: 100%;overflow: auto;}#sk-container-id-2 input.sk-toggleable__control:checked~label.sk-toggleable__label-arrow:before {content: \"▾\";}#sk-container-id-2 div.sk-estimator input.sk-toggleable__control:checked~label.sk-toggleable__label {background-color: #d4ebff;}#sk-container-id-2 div.sk-label input.sk-toggleable__control:checked~label.sk-toggleable__label {background-color: #d4ebff;}#sk-container-id-2 input.sk-hidden--visually {border: 0;clip: rect(1px 1px 1px 1px);clip: rect(1px, 1px, 1px, 1px);height: 1px;margin: -1px;overflow: hidden;padding: 0;position: absolute;width: 1px;}#sk-container-id-2 div.sk-estimator {font-family: monospace;background-color: #f0f8ff;border: 1px dotted black;border-radius: 0.25em;box-sizing: border-box;margin-bottom: 0.5em;}#sk-container-id-2 div.sk-estimator:hover {background-color: #d4ebff;}#sk-container-id-2 div.sk-parallel-item::after {content: \"\";width: 100%;border-bottom: 1px solid gray;flex-grow: 1;}#sk-container-id-2 div.sk-label:hover label.sk-toggleable__label {background-color: #d4ebff;}#sk-container-id-2 div.sk-serial::before {content: \"\";position: absolute;border-left: 1px solid gray;box-sizing: border-box;top: 0;bottom: 0;left: 50%;z-index: 0;}#sk-container-id-2 div.sk-serial {display: flex;flex-direction: column;align-items: center;background-color: white;padding-right: 0.2em;padding-left: 0.2em;position: relative;}#sk-container-id-2 div.sk-item {position: relative;z-index: 1;}#sk-container-id-2 div.sk-parallel {display: flex;align-items: stretch;justify-content: center;background-color: white;position: relative;}#sk-container-id-2 div.sk-item::before, #sk-container-id-2 div.sk-parallel-item::before {content: \"\";position: absolute;border-left: 1px solid gray;box-sizing: border-box;top: 0;bottom: 0;left: 50%;z-index: -1;}#sk-container-id-2 div.sk-parallel-item {display: flex;flex-direction: column;z-index: 1;position: relative;background-color: white;}#sk-container-id-2 div.sk-parallel-item:first-child::after {align-self: flex-end;width: 50%;}#sk-container-id-2 div.sk-parallel-item:last-child::after {align-self: flex-start;width: 50%;}#sk-container-id-2 div.sk-parallel-item:only-child::after {width: 0;}#sk-container-id-2 div.sk-dashed-wrapped {border: 1px dashed gray;margin: 0 0.4em 0.5em 0.4em;box-sizing: border-box;padding-bottom: 0.4em;background-color: white;}#sk-container-id-2 div.sk-label label {font-family: monospace;font-weight: bold;display: inline-block;line-height: 1.2em;}#sk-container-id-2 div.sk-label-container {text-align: center;}#sk-container-id-2 div.sk-container {/* jupyter's `normalize.less` sets `[hidden] { display: none; }` but bootstrap.min.css set `[hidden] { display: none !important; }` so we also need the `!important` here to be able to override the default hidden behavior on the sphinx rendered scikit-learn.org. See: https://github.com/scikit-learn/scikit-learn/issues/21755 */display: inline-block !important;position: relative;}#sk-container-id-2 div.sk-text-repr-fallback {display: none;}</style><div id=\"sk-container-id-2\" class=\"sk-top-container\"><div class=\"sk-text-repr-fallback\"><pre>Lasso(alpha=0.0001)</pre><b>In a Jupyter environment, please rerun this cell to show the HTML representation or trust the notebook. <br />On GitHub, the HTML representation is unable to render, please try loading this page with nbviewer.org.</b></div><div class=\"sk-container\" hidden><div class=\"sk-item\"><div class=\"sk-estimator sk-toggleable\"><input class=\"sk-toggleable__control sk-hidden--visually\" id=\"sk-estimator-id-2\" type=\"checkbox\" checked><label for=\"sk-estimator-id-2\" class=\"sk-toggleable__label sk-toggleable__label-arrow\">Lasso</label><div class=\"sk-toggleable__content\"><pre>Lasso(alpha=0.0001)</pre></div></div></div></div></div>"
      ],
      "text/plain": [
       "Lasso(alpha=0.0001)"
      ]
     },
     "execution_count": 16,
     "metadata": {},
     "output_type": "execute_result"
    }
   ],
   "source": [
    "lasso=Lasso(alpha=0.0001)\n",
    "lasso.fit(x_train,y_train)"
   ]
  },
  {
   "cell_type": "code",
   "execution_count": 17,
   "id": "7a22e4cb",
   "metadata": {
    "execution": {
     "iopub.execute_input": "2024-01-22T19:03:53.483347Z",
     "iopub.status.busy": "2024-01-22T19:03:53.482882Z",
     "iopub.status.idle": "2024-01-22T19:03:53.490579Z",
     "shell.execute_reply": "2024-01-22T19:03:53.489700Z"
    },
    "papermill": {
     "duration": 0.023027,
     "end_time": "2024-01-22T19:03:53.492679",
     "exception": false,
     "start_time": "2024-01-22T19:03:53.469652",
     "status": "completed"
    },
    "tags": []
   },
   "outputs": [
    {
     "data": {
      "text/plain": [
       "0.9999484840256792"
      ]
     },
     "execution_count": 17,
     "metadata": {},
     "output_type": "execute_result"
    }
   ],
   "source": [
    "lasso.score(x_train,y_train)"
   ]
  },
  {
   "cell_type": "code",
   "execution_count": 18,
   "id": "826d9cfb",
   "metadata": {
    "execution": {
     "iopub.execute_input": "2024-01-22T19:03:53.516908Z",
     "iopub.status.busy": "2024-01-22T19:03:53.516439Z",
     "iopub.status.idle": "2024-01-22T19:03:53.521928Z",
     "shell.execute_reply": "2024-01-22T19:03:53.520664Z"
    },
    "papermill": {
     "duration": 0.020691,
     "end_time": "2024-01-22T19:03:53.524187",
     "exception": false,
     "start_time": "2024-01-22T19:03:53.503496",
     "status": "completed"
    },
    "tags": []
   },
   "outputs": [],
   "source": [
    "lasso_pred=lasso.predict(x_test)"
   ]
  },
  {
   "cell_type": "code",
   "execution_count": 19,
   "id": "cccac766",
   "metadata": {
    "execution": {
     "iopub.execute_input": "2024-01-22T19:03:53.548561Z",
     "iopub.status.busy": "2024-01-22T19:03:53.548092Z",
     "iopub.status.idle": "2024-01-22T19:03:53.556168Z",
     "shell.execute_reply": "2024-01-22T19:03:53.554958Z"
    },
    "papermill": {
     "duration": 0.022955,
     "end_time": "2024-01-22T19:03:53.558394",
     "exception": false,
     "start_time": "2024-01-22T19:03:53.535439",
     "status": "completed"
    },
    "tags": []
   },
   "outputs": [
    {
     "data": {
      "text/plain": [
       "1.2407797129244328e-06"
      ]
     },
     "execution_count": 19,
     "metadata": {},
     "output_type": "execute_result"
    }
   ],
   "source": [
    "lasso_mse=mean_squared_error(y_test,lasso_pred)\n",
    "lasso_mse"
   ]
  },
  {
   "cell_type": "code",
   "execution_count": 20,
   "id": "10047c47",
   "metadata": {
    "execution": {
     "iopub.execute_input": "2024-01-22T19:03:53.582789Z",
     "iopub.status.busy": "2024-01-22T19:03:53.582365Z",
     "iopub.status.idle": "2024-01-22T19:03:53.590002Z",
     "shell.execute_reply": "2024-01-22T19:03:53.588783Z"
    },
    "papermill": {
     "duration": 0.022673,
     "end_time": "2024-01-22T19:03:53.592233",
     "exception": false,
     "start_time": "2024-01-22T19:03:53.569560",
     "status": "completed"
    },
    "tags": []
   },
   "outputs": [
    {
     "data": {
      "text/plain": [
       "0.999948068804387"
      ]
     },
     "execution_count": 20,
     "metadata": {},
     "output_type": "execute_result"
    }
   ],
   "source": [
    "lasso_r2=r2_score(y_test,lasso_pred)\n",
    "lasso_r2"
   ]
  },
  {
   "cell_type": "markdown",
   "id": "3c089fd8",
   "metadata": {
    "papermill": {
     "duration": 0.015462,
     "end_time": "2024-01-22T19:03:53.619077",
     "exception": false,
     "start_time": "2024-01-22T19:03:53.603615",
     "status": "completed"
    },
    "tags": []
   },
   "source": [
    "## Ridge"
   ]
  },
  {
   "cell_type": "code",
   "execution_count": 21,
   "id": "513095e5",
   "metadata": {
    "execution": {
     "iopub.execute_input": "2024-01-22T19:03:53.647720Z",
     "iopub.status.busy": "2024-01-22T19:03:53.647141Z",
     "iopub.status.idle": "2024-01-22T19:03:53.669144Z",
     "shell.execute_reply": "2024-01-22T19:03:53.667897Z"
    },
    "papermill": {
     "duration": 0.039368,
     "end_time": "2024-01-22T19:03:53.671616",
     "exception": false,
     "start_time": "2024-01-22T19:03:53.632248",
     "status": "completed"
    },
    "tags": []
   },
   "outputs": [
    {
     "data": {
      "text/html": [
       "<style>#sk-container-id-3 {color: black;background-color: white;}#sk-container-id-3 pre{padding: 0;}#sk-container-id-3 div.sk-toggleable {background-color: white;}#sk-container-id-3 label.sk-toggleable__label {cursor: pointer;display: block;width: 100%;margin-bottom: 0;padding: 0.3em;box-sizing: border-box;text-align: center;}#sk-container-id-3 label.sk-toggleable__label-arrow:before {content: \"▸\";float: left;margin-right: 0.25em;color: #696969;}#sk-container-id-3 label.sk-toggleable__label-arrow:hover:before {color: black;}#sk-container-id-3 div.sk-estimator:hover label.sk-toggleable__label-arrow:before {color: black;}#sk-container-id-3 div.sk-toggleable__content {max-height: 0;max-width: 0;overflow: hidden;text-align: left;background-color: #f0f8ff;}#sk-container-id-3 div.sk-toggleable__content pre {margin: 0.2em;color: black;border-radius: 0.25em;background-color: #f0f8ff;}#sk-container-id-3 input.sk-toggleable__control:checked~div.sk-toggleable__content {max-height: 200px;max-width: 100%;overflow: auto;}#sk-container-id-3 input.sk-toggleable__control:checked~label.sk-toggleable__label-arrow:before {content: \"▾\";}#sk-container-id-3 div.sk-estimator input.sk-toggleable__control:checked~label.sk-toggleable__label {background-color: #d4ebff;}#sk-container-id-3 div.sk-label input.sk-toggleable__control:checked~label.sk-toggleable__label {background-color: #d4ebff;}#sk-container-id-3 input.sk-hidden--visually {border: 0;clip: rect(1px 1px 1px 1px);clip: rect(1px, 1px, 1px, 1px);height: 1px;margin: -1px;overflow: hidden;padding: 0;position: absolute;width: 1px;}#sk-container-id-3 div.sk-estimator {font-family: monospace;background-color: #f0f8ff;border: 1px dotted black;border-radius: 0.25em;box-sizing: border-box;margin-bottom: 0.5em;}#sk-container-id-3 div.sk-estimator:hover {background-color: #d4ebff;}#sk-container-id-3 div.sk-parallel-item::after {content: \"\";width: 100%;border-bottom: 1px solid gray;flex-grow: 1;}#sk-container-id-3 div.sk-label:hover label.sk-toggleable__label {background-color: #d4ebff;}#sk-container-id-3 div.sk-serial::before {content: \"\";position: absolute;border-left: 1px solid gray;box-sizing: border-box;top: 0;bottom: 0;left: 50%;z-index: 0;}#sk-container-id-3 div.sk-serial {display: flex;flex-direction: column;align-items: center;background-color: white;padding-right: 0.2em;padding-left: 0.2em;position: relative;}#sk-container-id-3 div.sk-item {position: relative;z-index: 1;}#sk-container-id-3 div.sk-parallel {display: flex;align-items: stretch;justify-content: center;background-color: white;position: relative;}#sk-container-id-3 div.sk-item::before, #sk-container-id-3 div.sk-parallel-item::before {content: \"\";position: absolute;border-left: 1px solid gray;box-sizing: border-box;top: 0;bottom: 0;left: 50%;z-index: -1;}#sk-container-id-3 div.sk-parallel-item {display: flex;flex-direction: column;z-index: 1;position: relative;background-color: white;}#sk-container-id-3 div.sk-parallel-item:first-child::after {align-self: flex-end;width: 50%;}#sk-container-id-3 div.sk-parallel-item:last-child::after {align-self: flex-start;width: 50%;}#sk-container-id-3 div.sk-parallel-item:only-child::after {width: 0;}#sk-container-id-3 div.sk-dashed-wrapped {border: 1px dashed gray;margin: 0 0.4em 0.5em 0.4em;box-sizing: border-box;padding-bottom: 0.4em;background-color: white;}#sk-container-id-3 div.sk-label label {font-family: monospace;font-weight: bold;display: inline-block;line-height: 1.2em;}#sk-container-id-3 div.sk-label-container {text-align: center;}#sk-container-id-3 div.sk-container {/* jupyter's `normalize.less` sets `[hidden] { display: none; }` but bootstrap.min.css set `[hidden] { display: none !important; }` so we also need the `!important` here to be able to override the default hidden behavior on the sphinx rendered scikit-learn.org. See: https://github.com/scikit-learn/scikit-learn/issues/21755 */display: inline-block !important;position: relative;}#sk-container-id-3 div.sk-text-repr-fallback {display: none;}</style><div id=\"sk-container-id-3\" class=\"sk-top-container\"><div class=\"sk-text-repr-fallback\"><pre>Ridge(alpha=0.0001)</pre><b>In a Jupyter environment, please rerun this cell to show the HTML representation or trust the notebook. <br />On GitHub, the HTML representation is unable to render, please try loading this page with nbviewer.org.</b></div><div class=\"sk-container\" hidden><div class=\"sk-item\"><div class=\"sk-estimator sk-toggleable\"><input class=\"sk-toggleable__control sk-hidden--visually\" id=\"sk-estimator-id-3\" type=\"checkbox\" checked><label for=\"sk-estimator-id-3\" class=\"sk-toggleable__label sk-toggleable__label-arrow\">Ridge</label><div class=\"sk-toggleable__content\"><pre>Ridge(alpha=0.0001)</pre></div></div></div></div></div>"
      ],
      "text/plain": [
       "Ridge(alpha=0.0001)"
      ]
     },
     "execution_count": 21,
     "metadata": {},
     "output_type": "execute_result"
    }
   ],
   "source": [
    "ridge=Ridge(alpha=0.0001)\n",
    "ridge.fit(x_train,y_train)"
   ]
  },
  {
   "cell_type": "code",
   "execution_count": 22,
   "id": "78ddb59b",
   "metadata": {
    "execution": {
     "iopub.execute_input": "2024-01-22T19:03:53.696323Z",
     "iopub.status.busy": "2024-01-22T19:03:53.695865Z",
     "iopub.status.idle": "2024-01-22T19:03:53.704186Z",
     "shell.execute_reply": "2024-01-22T19:03:53.702979Z"
    },
    "papermill": {
     "duration": 0.023469,
     "end_time": "2024-01-22T19:03:53.706441",
     "exception": false,
     "start_time": "2024-01-22T19:03:53.682972",
     "status": "completed"
    },
    "tags": []
   },
   "outputs": [
    {
     "data": {
      "text/plain": [
       "0.9999999815590181"
      ]
     },
     "execution_count": 22,
     "metadata": {},
     "output_type": "execute_result"
    }
   ],
   "source": [
    "ridge.score(x_train,y_train)"
   ]
  },
  {
   "cell_type": "code",
   "execution_count": 23,
   "id": "dc64d2cc",
   "metadata": {
    "execution": {
     "iopub.execute_input": "2024-01-22T19:03:53.736345Z",
     "iopub.status.busy": "2024-01-22T19:03:53.735846Z",
     "iopub.status.idle": "2024-01-22T19:03:53.744401Z",
     "shell.execute_reply": "2024-01-22T19:03:53.743338Z"
    },
    "papermill": {
     "duration": 0.029114,
     "end_time": "2024-01-22T19:03:53.747783",
     "exception": false,
     "start_time": "2024-01-22T19:03:53.718669",
     "status": "completed"
    },
    "tags": []
   },
   "outputs": [],
   "source": [
    "ridge_pred=ridge.predict(x_test)"
   ]
  },
  {
   "cell_type": "code",
   "execution_count": 24,
   "id": "19653ec8",
   "metadata": {
    "execution": {
     "iopub.execute_input": "2024-01-22T19:03:53.779949Z",
     "iopub.status.busy": "2024-01-22T19:03:53.779265Z",
     "iopub.status.idle": "2024-01-22T19:03:53.789194Z",
     "shell.execute_reply": "2024-01-22T19:03:53.786992Z"
    },
    "papermill": {
     "duration": 0.027786,
     "end_time": "2024-01-22T19:03:53.792711",
     "exception": false,
     "start_time": "2024-01-22T19:03:53.764925",
     "status": "completed"
    },
    "tags": []
   },
   "outputs": [
    {
     "data": {
      "text/plain": [
       "4.885854645183052e-10"
      ]
     },
     "execution_count": 24,
     "metadata": {},
     "output_type": "execute_result"
    }
   ],
   "source": [
    "ridge_mse=mean_squared_error(y_test,ridge_pred)\n",
    "ridge_mse"
   ]
  },
  {
   "cell_type": "code",
   "execution_count": 25,
   "id": "ce25c883",
   "metadata": {
    "execution": {
     "iopub.execute_input": "2024-01-22T19:03:53.819329Z",
     "iopub.status.busy": "2024-01-22T19:03:53.818859Z",
     "iopub.status.idle": "2024-01-22T19:03:53.826875Z",
     "shell.execute_reply": "2024-01-22T19:03:53.825731Z"
    },
    "papermill": {
     "duration": 0.023766,
     "end_time": "2024-01-22T19:03:53.829222",
     "exception": false,
     "start_time": "2024-01-22T19:03:53.805456",
     "status": "completed"
    },
    "tags": []
   },
   "outputs": [
    {
     "data": {
      "text/plain": [
       "0.9999999795509009"
      ]
     },
     "execution_count": 25,
     "metadata": {},
     "output_type": "execute_result"
    }
   ],
   "source": [
    "ridge_r2=r2_score(y_test,ridge_pred)\n",
    "ridge_r2"
   ]
  },
  {
   "cell_type": "markdown",
   "id": "0e45f655",
   "metadata": {
    "papermill": {
     "duration": 0.011601,
     "end_time": "2024-01-22T19:03:53.852954",
     "exception": false,
     "start_time": "2024-01-22T19:03:53.841353",
     "status": "completed"
    },
    "tags": []
   },
   "source": [
    "## Evaluations"
   ]
  },
  {
   "cell_type": "code",
   "execution_count": 26,
   "id": "8e03ba7e",
   "metadata": {
    "execution": {
     "iopub.execute_input": "2024-01-22T19:03:53.879151Z",
     "iopub.status.busy": "2024-01-22T19:03:53.877912Z",
     "iopub.status.idle": "2024-01-22T19:03:54.269855Z",
     "shell.execute_reply": "2024-01-22T19:03:54.268625Z"
    },
    "papermill": {
     "duration": 0.407647,
     "end_time": "2024-01-22T19:03:54.272362",
     "exception": false,
     "start_time": "2024-01-22T19:03:53.864715",
     "status": "completed"
    },
    "tags": []
   },
   "outputs": [
    {
     "data": {
      "image/png": "[encoded data removed]",
      "text/plain": [
       "<Figure size 640x480 with 1 Axes>"
      ]
     },
     "metadata": {},
     "output_type": "display_data"
    }
   ],
   "source": [
    "# Plot predicted vs. actual values\n",
    "plt.xlabel('Actual Values')\n",
    "plt.ylabel('Predicted Values')\n",
    "plt.title('Predicted vs. Actual Values')\n",
    "plt.scatter(y_test,lr_pred,label='Linear Regression')\n",
    "plt.scatter(y_test,lasso_pred,label='Lasso')\n",
    "plt.scatter(y_test,ridge_pred,label='Ridge')\n",
    "plt.plot([min(y_test), max(y_test)], [min(y_test), max(y_test)], linestyle='--', color='black')\n",
    "plt.legend()\n",
    "plt.show()"
   ]
  },
  {
   "cell_type": "code",
   "execution_count": 27,
   "id": "4e86dedf",
   "metadata": {
    "execution": {
     "iopub.execute_input": "2024-01-22T19:03:54.299720Z",
     "iopub.status.busy": "2024-01-22T19:03:54.299255Z",
     "iopub.status.idle": "2024-01-22T19:03:54.305935Z",
     "shell.execute_reply": "2024-01-22T19:03:54.304550Z"
    },
    "papermill": {
     "duration": 0.023125,
     "end_time": "2024-01-22T19:03:54.308362",
     "exception": false,
     "start_time": "2024-01-22T19:03:54.285237",
     "status": "completed"
    },
    "tags": []
   },
   "outputs": [
    {
     "name": "stdout",
     "output_type": "stream",
     "text": [
      "MSE\n",
      "Linear Regression: 4.942037654697138e-10\n",
      "Ridge Regression: 4.885854645183052e-10\n",
      "Lasso Regression: 1.2407797129244328e-06\n"
     ]
    }
   ],
   "source": [
    "print(f'MSE\\nLinear Regression: {lr_mse}\\nRidge Regression: {ridge_mse}\\nLasso Regression: {lasso_mse}')"
   ]
  },
  {
   "cell_type": "code",
   "execution_count": 28,
   "id": "23935ede",
   "metadata": {
    "execution": {
     "iopub.execute_input": "2024-01-22T19:03:54.335084Z",
     "iopub.status.busy": "2024-01-22T19:03:54.334635Z",
     "iopub.status.idle": "2024-01-22T19:03:54.340442Z",
     "shell.execute_reply": "2024-01-22T19:03:54.339233Z"
    },
    "papermill": {
     "duration": 0.022544,
     "end_time": "2024-01-22T19:03:54.343292",
     "exception": false,
     "start_time": "2024-01-22T19:03:54.320748",
     "status": "completed"
    },
    "tags": []
   },
   "outputs": [
    {
     "name": "stdout",
     "output_type": "stream",
     "text": [
      "R-2\n",
      "Linear Regression: 0.9999999793157544\n",
      "Ridge Regression: 0.9999999795509009\n",
      "Lasso Regression: 0.999948068804387\n"
     ]
    }
   ],
   "source": [
    "print(f'R-2\\nLinear Regression: {lr_r2}\\nRidge Regression: {ridge_r2}\\nLasso Regression: {lasso_r2}')"
   ]
  }
 ],
 "metadata": {
  "kaggle": {
   "accelerator": "none",
   "dataSources": [
    {
     "datasetId": 2515235,
     "sourceId": 4268549,
     "sourceType": "datasetVersion"
    }
   ],
   "dockerImageVersionId": 30635,
   "isGpuEnabled": false,
   "isInternetEnabled": true,
   "language": "python",
   "sourceType": "notebook"
  },
  "kernelspec": {
   "display_name": "Python 3 (ipykernel)",
   "language": "python",
   "name": "python3"
  },
  "language_info": {
   "codemirror_mode": {
    "name": "ipython",
    "version": 3
   },
   "file_extension": ".py",
   "mimetype": "text/x-python",
   "name": "python",
   "nbconvert_exporter": "python",
   "pygments_lexer": "ipython3",
   "version": "3.11.5"
  },
  "papermill": {
   "default_parameters": {},
   "duration": 9.688475,
   "end_time": "2024-01-22T19:03:55.178241",
   "environment_variables": {},
   "exception": null,
   "input_path": "__notebook__.ipynb",
   "output_path": "__notebook__.ipynb",
   "parameters": {},
   "start_time": "2024-01-22T19:03:45.489766",
   "version": "2.4.0"
  }
 },
 "nbformat": 4,
 "nbformat_minor": 5
}
